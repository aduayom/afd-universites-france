{
 "cells": [
  {
   "cell_type": "markdown",
   "id": "ddbead54",
   "metadata": {},
   "source": [
    "<br>\n",
    "\n",
    "<div align=\"right\" style=\"font-family: Arial, sans-serif; font-size: 14px; color: #333;\">\n",
    "    <strong>Réalisé par :</strong> ADUAYOM MESSAN Daniel  \n",
    "</div>\n",
    "<div align=\"right\" style=\"font-family: Arial, sans-serif; font-size: 14px; color: #333;\">\n",
    "    <strong>Date :</strong> Octobre 2024\n",
    "</div>\n",
    "\n",
    "<br><br>\n",
    "\n",
    "<div align=\"center\">\n",
    "    <span style=\"font-family: Georgia, serif; font-size: 30px; color: darkgreen;\">\n",
    "        PROJET DE DATA ANALYTICS\n",
    "    </span>\n",
    "</div>\n",
    "\n",
    "<div align=\"center\">\n",
    "    <span style=\"font-family: Georgia, serif; font-size: 24px; color: #cc0000;\">\n",
    "        Analyse Factorielle Discriminante des Universités Françaises\n",
    "    </span>\n",
    "</div>\n",
    "\n",
    "<hr style=\"border: 2px solid #75DFC1;\">\n",
    "\n",
    "<center>\n",
    "    <h1 style=\"color: #444;\">Étude des Similarités entre Universités</h1>\n",
    "</center>\n",
    "\n",
    "<hr style=\"border: 2px solid #75DFC1;\">\n",
    "\n",
    "> Ce projet s’inscrit dans une démarche d’analyse exploratoire de données sur l’insertion professionnelle des diplômés de Master en France. À travers une **Analyse Factorielle Discriminante (AFD)**, il vise à :\n",
    ">\n",
    "> - Comprendre les **facteurs influençant l’insertion professionnelle** selon les établissements,\n",
    "> - Identifier des **profils d’universités similaires**,\n",
    "> - Fournir des **indicateurs utiles aux étudiants, aux décideurs et aux établissements eux-mêmes**.\n",
    ">\n",
    "> L’étude repose sur des données fournies par le Ministère de l’Enseignement Supérieur (MENESR), récoltées 30 mois après l’obtention des diplômes.\n",
    "\n",
    "<br><br>\n"
   ]
  },
  {
   "cell_type": "code",
   "execution_count": 1,
   "id": "f1165973",
   "metadata": {},
   "outputs": [],
   "source": [
    "# Import necessary libraries\n",
    "import pandas as pd\n",
    "from IPython.display import display #to display DataFrames in Jupyter notebooks\n",
    "import numpy as np #for numerical operations\n",
    "from sklearn.cluster import KMeans #for KMeans clustering\n",
    "\n",
    "import prince # ACP for categorical data"
   ]
  },
  {
   "cell_type": "markdown",
   "id": "0b6f2413",
   "metadata": {},
   "source": [
    "<br/>\n",
    "<hr style=\"border-width:2px;border-color:#75DFC1\">\n",
    "<center><h1>Présentation de la Base de Données</h1></center>\n",
    "<hr style=\"border-width:2px;border-color:#75DFC1\">\n",
    "\n",
    "<p style=\"font-family: 'Arial', sans-serif; font-size: 14px;\">\n",
    "    Cette base de données provient d'une enquête nationale menée par le Ministère de l’Enseignement Supérieur sur l’insertion professionnelle des diplômés de Master. Elle couvre près de 60 000 diplômés interrogés 30 mois après l’obtention de leur diplôme. Les données permettent d’analyser les performances d’insertion par université et fournissent de nombreux indicateurs socio-économiques.\n",
    "</p>\n",
    "\n",
    "<ul style=\"font-family: 'Arial', sans-serif; font-size: 14px;\">\n",
    "    <li><strong>taux_dinsertion :</strong> Pourcentage de diplômés en emploi parmi ceux présents sur le marché du travail.</li>\n",
    "    <li><strong>salaire_net_median_des_emplois_a_temps_plein :</strong> Salaire mensuel net médian des diplômés en emploi à temps plein.</li>\n",
    "    <li><strong>emplois_stables :</strong> Part des emplois à durée indéterminée ou statut de fonctionnaire.</li>\n",
    "    <li><strong>emplois_cadre_ou_professions_intermediaires :</strong> Part des emplois de niveau cadre ou intermédiaire.</li>\n",
    "    <li><strong>femmes :</strong> Pourcentage de femmes parmi les diplômés.</li>\n",
    "    <li><strong>de_diplomes_boursiers :</strong> Part des diplômés ayant bénéficié d’une bourse durant leurs études.</li>\n",
    "    <li><strong>emplois_exterieurs_a_la_region_de_luniversite :</strong> Part des diplômés travaillant hors de leur région universitaire.</li>\n",
    "    <li><strong>taux_de_chomage_regional :</strong> Taux de chômage dans la région de l’université (source INSEE).</li>\n",
    "    <li><strong>salaire_net_mensuel_median_regional :</strong> Salaire médian régional des jeunes cadres ou professions intermédiaires.</li>\n",
    "    <li><strong>nombre_de_reponses :</strong> Nombre total de diplômés ayant répondu à l’enquête pour chaque université.</li>\n",
    "    <li><strong>taux_de_reponse :</strong> Pourcentage de répondants à l’enquête pour chaque établissement.</li>\n",
    "</ul>\n",
    "\n",
    "<p style=\"font-family: 'Arial', sans-serif; font-size: 14px;\">\n",
    "    Ces indicateurs permettent une analyse comparative des universités françaises selon leurs résultats en matière d’insertion professionnelle. Cette base offre ainsi une opportunité précieuse pour explorer les proximités et différences entre établissements, et guider étudiants, chercheurs ou décideurs.\n",
    "</p>\n"
   ]
  },
  {
   "cell_type": "code",
   "execution_count": 6,
   "id": "0b960f50",
   "metadata": {},
   "outputs": [
    {
     "name": "stdout",
     "output_type": "stream",
     "text": [
      "Aperçu de notre base de données\n"
     ]
    },
    {
     "data": {
      "text/html": [
       "<div>\n",
       "<style scoped>\n",
       "    .dataframe tbody tr th:only-of-type {\n",
       "        vertical-align: middle;\n",
       "    }\n",
       "\n",
       "    .dataframe tbody tr th {\n",
       "        vertical-align: top;\n",
       "    }\n",
       "\n",
       "    .dataframe thead th {\n",
       "        text-align: right;\n",
       "    }\n",
       "</style>\n",
       "<table border=\"1\" class=\"dataframe\">\n",
       "  <thead>\n",
       "    <tr style=\"text-align: right;\">\n",
       "      <th></th>\n",
       "      <th>annee</th>\n",
       "      <th>diplome</th>\n",
       "      <th>numero_de_l_etablissement</th>\n",
       "      <th>etablissement</th>\n",
       "      <th>etablissementactuel</th>\n",
       "      <th>code_de_l_academie</th>\n",
       "      <th>academie</th>\n",
       "      <th>code_du_domaine</th>\n",
       "      <th>domaine</th>\n",
       "      <th>code_de_la_discipline</th>\n",
       "      <th>...</th>\n",
       "      <th>taux_de_chomage_regional</th>\n",
       "      <th>salaire_net_mensuel_median_regional</th>\n",
       "      <th>emplois_cadre</th>\n",
       "      <th>emplois_exterieurs_a_la_region_de_luniversite</th>\n",
       "      <th>femmes</th>\n",
       "      <th>salaire_net_mensuel_regional_1er_quartile</th>\n",
       "      <th>salaire_net_mensuel_regional_3eme_quartile</th>\n",
       "      <th>cle_etab</th>\n",
       "      <th>cle_disc</th>\n",
       "      <th>id_paysage</th>\n",
       "    </tr>\n",
       "  </thead>\n",
       "  <tbody>\n",
       "    <tr>\n",
       "      <th>0</th>\n",
       "      <td>2017</td>\n",
       "      <td>MASTER LMD</td>\n",
       "      <td>0751719L</td>\n",
       "      <td>Paris 3 - Sorbonne Nouvelle</td>\n",
       "      <td>NaN</td>\n",
       "      <td>A01</td>\n",
       "      <td>Paris</td>\n",
       "      <td>LLA</td>\n",
       "      <td>Lettres, langues, arts</td>\n",
       "      <td>disc06</td>\n",
       "      <td>...</td>\n",
       "      <td>7.1</td>\n",
       "      <td>2120</td>\n",
       "      <td>46</td>\n",
       "      <td>35</td>\n",
       "      <td>89</td>\n",
       "      <td>1620</td>\n",
       "      <td>2620</td>\n",
       "      <td>Paris 3 - Sorbonne Nouvelle_18</td>\n",
       "      <td>disc06_18</td>\n",
       "      <td>8k883</td>\n",
       "    </tr>\n",
       "    <tr>\n",
       "      <th>1</th>\n",
       "      <td>2017</td>\n",
       "      <td>MASTER LMD</td>\n",
       "      <td>0751719L</td>\n",
       "      <td>Paris 3 - Sorbonne Nouvelle</td>\n",
       "      <td>NaN</td>\n",
       "      <td>A01</td>\n",
       "      <td>Paris</td>\n",
       "      <td>LLA</td>\n",
       "      <td>Lettres, langues, arts</td>\n",
       "      <td>disc06</td>\n",
       "      <td>...</td>\n",
       "      <td>7.1</td>\n",
       "      <td>2120</td>\n",
       "      <td>57</td>\n",
       "      <td>35</td>\n",
       "      <td>89</td>\n",
       "      <td>1620</td>\n",
       "      <td>2620</td>\n",
       "      <td>Paris 3 - Sorbonne Nouvelle_30</td>\n",
       "      <td>disc06_30</td>\n",
       "      <td>8k883</td>\n",
       "    </tr>\n",
       "    <tr>\n",
       "      <th>2</th>\n",
       "      <td>2017</td>\n",
       "      <td>MASTER ENS</td>\n",
       "      <td>0755890V</td>\n",
       "      <td>Sorbonne Université</td>\n",
       "      <td>NaN</td>\n",
       "      <td>A01</td>\n",
       "      <td>Paris</td>\n",
       "      <td>MEEF</td>\n",
       "      <td>Masters enseignement</td>\n",
       "      <td>disc18</td>\n",
       "      <td>...</td>\n",
       "      <td>7.1</td>\n",
       "      <td>2120</td>\n",
       "      <td>96</td>\n",
       "      <td>6</td>\n",
       "      <td>86</td>\n",
       "      <td>1620</td>\n",
       "      <td>2620</td>\n",
       "      <td>Sorbonne Université_30</td>\n",
       "      <td>disc18_30</td>\n",
       "      <td>bxPQe</td>\n",
       "    </tr>\n",
       "    <tr>\n",
       "      <th>3</th>\n",
       "      <td>2017</td>\n",
       "      <td>MASTER LMD</td>\n",
       "      <td>0755890V</td>\n",
       "      <td>Sorbonne Université</td>\n",
       "      <td>NaN</td>\n",
       "      <td>A01</td>\n",
       "      <td>Paris</td>\n",
       "      <td>DEG</td>\n",
       "      <td>Droit, économie et gestion</td>\n",
       "      <td>disc01</td>\n",
       "      <td>...</td>\n",
       "      <td>7.1</td>\n",
       "      <td>2120</td>\n",
       "      <td>ns</td>\n",
       "      <td>ns</td>\n",
       "      <td>ns</td>\n",
       "      <td>1620</td>\n",
       "      <td>2620</td>\n",
       "      <td>Sorbonne Université_30</td>\n",
       "      <td>disc01_30</td>\n",
       "      <td>bxPQe</td>\n",
       "    </tr>\n",
       "    <tr>\n",
       "      <th>4</th>\n",
       "      <td>2017</td>\n",
       "      <td>MASTER LMD</td>\n",
       "      <td>0755890V</td>\n",
       "      <td>Sorbonne Université</td>\n",
       "      <td>NaN</td>\n",
       "      <td>A01</td>\n",
       "      <td>Paris</td>\n",
       "      <td>STS</td>\n",
       "      <td>Sciences, technologies et santé</td>\n",
       "      <td>disc16</td>\n",
       "      <td>...</td>\n",
       "      <td>7.1</td>\n",
       "      <td>2120</td>\n",
       "      <td>93</td>\n",
       "      <td>15</td>\n",
       "      <td>9</td>\n",
       "      <td>1620</td>\n",
       "      <td>2620</td>\n",
       "      <td>Sorbonne Université_18</td>\n",
       "      <td>disc16_18</td>\n",
       "      <td>bxPQe</td>\n",
       "    </tr>\n",
       "  </tbody>\n",
       "</table>\n",
       "<p>5 rows × 35 columns</p>\n",
       "</div>"
      ],
      "text/plain": [
       "   annee     diplome numero_de_l_etablissement                etablissement  \\\n",
       "0   2017  MASTER LMD                  0751719L  Paris 3 - Sorbonne Nouvelle   \n",
       "1   2017  MASTER LMD                  0751719L  Paris 3 - Sorbonne Nouvelle   \n",
       "2   2017  MASTER ENS                  0755890V          Sorbonne Université   \n",
       "3   2017  MASTER LMD                  0755890V          Sorbonne Université   \n",
       "4   2017  MASTER LMD                  0755890V          Sorbonne Université   \n",
       "\n",
       "  etablissementactuel code_de_l_academie academie code_du_domaine  \\\n",
       "0                 NaN                A01    Paris             LLA   \n",
       "1                 NaN                A01    Paris             LLA   \n",
       "2                 NaN                A01    Paris            MEEF   \n",
       "3                 NaN                A01    Paris             DEG   \n",
       "4                 NaN                A01    Paris             STS   \n",
       "\n",
       "                           domaine code_de_la_discipline  ...  \\\n",
       "0           Lettres, langues, arts                disc06  ...   \n",
       "1           Lettres, langues, arts                disc06  ...   \n",
       "2             Masters enseignement                disc18  ...   \n",
       "3       Droit, économie et gestion                disc01  ...   \n",
       "4  Sciences, technologies et santé                disc16  ...   \n",
       "\n",
       "  taux_de_chomage_regional salaire_net_mensuel_median_regional emplois_cadre  \\\n",
       "0                      7.1                                2120            46   \n",
       "1                      7.1                                2120            57   \n",
       "2                      7.1                                2120            96   \n",
       "3                      7.1                                2120            ns   \n",
       "4                      7.1                                2120            93   \n",
       "\n",
       "   emplois_exterieurs_a_la_region_de_luniversite femmes  \\\n",
       "0                                             35     89   \n",
       "1                                             35     89   \n",
       "2                                              6     86   \n",
       "3                                             ns     ns   \n",
       "4                                             15      9   \n",
       "\n",
       "  salaire_net_mensuel_regional_1er_quartile  \\\n",
       "0                                      1620   \n",
       "1                                      1620   \n",
       "2                                      1620   \n",
       "3                                      1620   \n",
       "4                                      1620   \n",
       "\n",
       "  salaire_net_mensuel_regional_3eme_quartile                        cle_etab  \\\n",
       "0                                       2620  Paris 3 - Sorbonne Nouvelle_18   \n",
       "1                                       2620  Paris 3 - Sorbonne Nouvelle_30   \n",
       "2                                       2620          Sorbonne Université_30   \n",
       "3                                       2620          Sorbonne Université_30   \n",
       "4                                       2620          Sorbonne Université_18   \n",
       "\n",
       "    cle_disc id_paysage  \n",
       "0  disc06_18      8k883  \n",
       "1  disc06_30      8k883  \n",
       "2  disc18_30      bxPQe  \n",
       "3  disc01_30      bxPQe  \n",
       "4  disc16_18      bxPQe  \n",
       "\n",
       "[5 rows x 35 columns]"
      ]
     },
     "metadata": {},
     "output_type": "display_data"
    },
    {
     "name": "stdout",
     "output_type": "stream",
     "text": [
      "Type de données de notre base de données\n"
     ]
    },
    {
     "data": {
      "text/plain": [
       "annee                                              int64\n",
       "diplome                                           object\n",
       "numero_de_l_etablissement                         object\n",
       "etablissement                                     object\n",
       "etablissementactuel                               object\n",
       "code_de_l_academie                                object\n",
       "academie                                          object\n",
       "code_du_domaine                                   object\n",
       "domaine                                           object\n",
       "code_de_la_discipline                             object\n",
       "discipline                                        object\n",
       "situation                                         object\n",
       "remarque                                          object\n",
       "nombre_de_reponses                               float64\n",
       "taux_de_reponse                                   object\n",
       "poids_de_la_discipline                            object\n",
       "taux_dinsertion                                   object\n",
       "taux_d_emploi                                     object\n",
       "taux_d_emploi_salarie_en_france                   object\n",
       "emplois_cadre_ou_professions_intermediaires       object\n",
       "emplois_stables                                   object\n",
       "emplois_a_temps_plein                             object\n",
       "salaire_net_median_des_emplois_a_temps_plein      object\n",
       "salaire_brut_annuel_estime                        object\n",
       "de_diplomes_boursiers                             object\n",
       "taux_de_chomage_regional                          object\n",
       "salaire_net_mensuel_median_regional               object\n",
       "emplois_cadre                                     object\n",
       "emplois_exterieurs_a_la_region_de_luniversite     object\n",
       "femmes                                            object\n",
       "salaire_net_mensuel_regional_1er_quartile         object\n",
       "salaire_net_mensuel_regional_3eme_quartile        object\n",
       "cle_etab                                          object\n",
       "cle_disc                                          object\n",
       "id_paysage                                        object\n",
       "dtype: object"
      ]
     },
     "metadata": {},
     "output_type": "display_data"
    }
   ],
   "source": [
    "# Define the file path\n",
    "file_path = 'Data/fr-esr-insertion_professionnelle-master.csv'\n",
    "\n",
    "# Read the CSV file\n",
    "# Note: The separator is set to \";\" as per the original code\n",
    "data = pd.read_csv(file_path,sep=\";\")\n",
    "\n",
    "# Display the first few rows of the DataFrame\n",
    "print(\"Aperçu de notre base de données\")\n",
    "display(data.head())\n",
    "\n",
    "# dtype of the DataFrame\n",
    "print(\"Type de données de notre base de données\")\n",
    "display(data.dtypes)\n"
   ]
  },
  {
   "cell_type": "code",
   "execution_count": 7,
   "id": "30f1f9bc",
   "metadata": {},
   "outputs": [
    {
     "name": "stdout",
     "output_type": "stream",
     "text": [
      "Statistique descriptive\n"
     ]
    },
    {
     "data": {
      "text/html": [
       "<div>\n",
       "<style scoped>\n",
       "    .dataframe tbody tr th:only-of-type {\n",
       "        vertical-align: middle;\n",
       "    }\n",
       "\n",
       "    .dataframe tbody tr th {\n",
       "        vertical-align: top;\n",
       "    }\n",
       "\n",
       "    .dataframe thead th {\n",
       "        text-align: right;\n",
       "    }\n",
       "</style>\n",
       "<table border=\"1\" class=\"dataframe\">\n",
       "  <thead>\n",
       "    <tr style=\"text-align: right;\">\n",
       "      <th></th>\n",
       "      <th>taux_de_reponse</th>\n",
       "      <th>poids_de_la_discipline</th>\n",
       "      <th>taux_dinsertion</th>\n",
       "      <th>emplois_cadre_ou_professions_intermediaires</th>\n",
       "      <th>emplois_stables</th>\n",
       "      <th>emplois_a_temps_plein</th>\n",
       "      <th>salaire_brut_annuel_estime</th>\n",
       "      <th>taux_de_chomage_regional</th>\n",
       "    </tr>\n",
       "  </thead>\n",
       "  <tbody>\n",
       "    <tr>\n",
       "      <th>count</th>\n",
       "      <td>19268.000000</td>\n",
       "      <td>18765.000000</td>\n",
       "      <td>10856.000000</td>\n",
       "      <td>9816.000000</td>\n",
       "      <td>9935.000000</td>\n",
       "      <td>9869.000000</td>\n",
       "      <td>8442.000000</td>\n",
       "      <td>19136.000000</td>\n",
       "    </tr>\n",
       "    <tr>\n",
       "      <th>mean</th>\n",
       "      <td>71.720262</td>\n",
       "      <td>18.367226</td>\n",
       "      <td>89.815494</td>\n",
       "      <td>87.272107</td>\n",
       "      <td>70.363664</td>\n",
       "      <td>92.566116</td>\n",
       "      <td>29874.034589</td>\n",
       "      <td>8.740782</td>\n",
       "    </tr>\n",
       "    <tr>\n",
       "      <th>std</th>\n",
       "      <td>13.875942</td>\n",
       "      <td>23.357322</td>\n",
       "      <td>6.665734</td>\n",
       "      <td>10.588858</td>\n",
       "      <td>16.161273</td>\n",
       "      <td>8.969819</td>\n",
       "      <td>3974.184381</td>\n",
       "      <td>1.996428</td>\n",
       "    </tr>\n",
       "    <tr>\n",
       "      <th>min</th>\n",
       "      <td>0.000000</td>\n",
       "      <td>0.000000</td>\n",
       "      <td>6.000000</td>\n",
       "      <td>3.000000</td>\n",
       "      <td>12.000000</td>\n",
       "      <td>37.000000</td>\n",
       "      <td>20000.000000</td>\n",
       "      <td>5.700000</td>\n",
       "    </tr>\n",
       "    <tr>\n",
       "      <th>25%</th>\n",
       "      <td>64.000000</td>\n",
       "      <td>4.000000</td>\n",
       "      <td>86.000000</td>\n",
       "      <td>82.000000</td>\n",
       "      <td>59.000000</td>\n",
       "      <td>90.000000</td>\n",
       "      <td>26800.000000</td>\n",
       "      <td>7.400000</td>\n",
       "    </tr>\n",
       "    <tr>\n",
       "      <th>50%</th>\n",
       "      <td>73.000000</td>\n",
       "      <td>9.000000</td>\n",
       "      <td>91.000000</td>\n",
       "      <td>90.000000</td>\n",
       "      <td>72.000000</td>\n",
       "      <td>96.000000</td>\n",
       "      <td>29600.000000</td>\n",
       "      <td>8.600000</td>\n",
       "    </tr>\n",
       "    <tr>\n",
       "      <th>75%</th>\n",
       "      <td>81.000000</td>\n",
       "      <td>22.000000</td>\n",
       "      <td>95.000000</td>\n",
       "      <td>95.000000</td>\n",
       "      <td>83.000000</td>\n",
       "      <td>98.000000</td>\n",
       "      <td>32400.000000</td>\n",
       "      <td>9.500000</td>\n",
       "    </tr>\n",
       "    <tr>\n",
       "      <th>max</th>\n",
       "      <td>100.000000</td>\n",
       "      <td>100.000000</td>\n",
       "      <td>100.000000</td>\n",
       "      <td>100.000000</td>\n",
       "      <td>100.000000</td>\n",
       "      <td>100.000000</td>\n",
       "      <td>49100.000000</td>\n",
       "      <td>20.100000</td>\n",
       "    </tr>\n",
       "  </tbody>\n",
       "</table>\n",
       "</div>"
      ],
      "text/plain": [
       "       taux_de_reponse  poids_de_la_discipline  taux_dinsertion  \\\n",
       "count     19268.000000            18765.000000     10856.000000   \n",
       "mean         71.720262               18.367226        89.815494   \n",
       "std          13.875942               23.357322         6.665734   \n",
       "min           0.000000                0.000000         6.000000   \n",
       "25%          64.000000                4.000000        86.000000   \n",
       "50%          73.000000                9.000000        91.000000   \n",
       "75%          81.000000               22.000000        95.000000   \n",
       "max         100.000000              100.000000       100.000000   \n",
       "\n",
       "       emplois_cadre_ou_professions_intermediaires  emplois_stables  \\\n",
       "count                                  9816.000000      9935.000000   \n",
       "mean                                     87.272107        70.363664   \n",
       "std                                      10.588858        16.161273   \n",
       "min                                       3.000000        12.000000   \n",
       "25%                                      82.000000        59.000000   \n",
       "50%                                      90.000000        72.000000   \n",
       "75%                                      95.000000        83.000000   \n",
       "max                                     100.000000       100.000000   \n",
       "\n",
       "       emplois_a_temps_plein  salaire_brut_annuel_estime  \\\n",
       "count            9869.000000                 8442.000000   \n",
       "mean               92.566116                29874.034589   \n",
       "std                 8.969819                 3974.184381   \n",
       "min                37.000000                20000.000000   \n",
       "25%                90.000000                26800.000000   \n",
       "50%                96.000000                29600.000000   \n",
       "75%                98.000000                32400.000000   \n",
       "max               100.000000                49100.000000   \n",
       "\n",
       "       taux_de_chomage_regional  \n",
       "count              19136.000000  \n",
       "mean                   8.740782  \n",
       "std                    1.996428  \n",
       "min                    5.700000  \n",
       "25%                    7.400000  \n",
       "50%                    8.600000  \n",
       "75%                    9.500000  \n",
       "max                   20.100000  "
      ]
     },
     "metadata": {},
     "output_type": "display_data"
    },
    {
     "name": "stdout",
     "output_type": "stream",
     "text": [
      "Dimensions de notre base de données\n"
     ]
    },
    {
     "data": {
      "text/plain": [
       "(19603, 12)"
      ]
     },
     "metadata": {},
     "output_type": "display_data"
    }
   ],
   "source": [
    "# list of variables continues\n",
    "# Note: The original code had a typo in the variable name 'taux_dinsertion' (missing underscore)\n",
    "variables_continues = [\n",
    "    'taux_de_reponse', 'poids_de_la_discipline', 'taux_dinsertion',\n",
    "    'emplois_cadre_ou_professions_intermediaires', 'emplois_stables',\n",
    "    'emplois_a_temps_plein', 'salaire_brut_annuel_estime', 'taux_de_chomage_regional'\n",
    "]\n",
    "# Check for missing values in the DataFrame\n",
    "for col in variables_continues:\n",
    "    data[col] = pd.to_numeric(data[col], errors='coerce')  # convert to numeric, coercing errors to NaN\n",
    "\n",
    "# select only that we need\n",
    "colonnes_used = ['diplome', 'etablissement', 'discipline', 'situation'] + variables_continues\n",
    "data = data[colonnes_used]\n",
    "# Describe the DataFrame to get summary statistics\n",
    "# Note: The describe() method provides summary statistics for numerical columns by default\n",
    "print(\"Statistique descriptive\")\n",
    "display(data.describe())\n",
    "# Save the DataFrame to a CSV file for further analysis\n",
    "data.to_csv(\"Data/Used_Data.csv\", index=False)\n",
    "\n",
    "# dimension of the DataFrame\n",
    "print(\"Dimensions de notre base de données\")\n",
    "display((data.shape))\n",
    "\n"
   ]
  },
  {
   "cell_type": "markdown",
   "id": "e40aba8c",
   "metadata": {},
   "source": [
    "<hr style=\"border-width:2px;border-color:#75DFC1\"> <center><h1>Analyse Statistique – Interprétation des Résultats</h1></center> <hr style=\"border-width:2px;border-color:#75DFC1\"> <p style=\"font-family: 'Arial', sans-serif; font-size: 14px; line-height: 1.6;\"> L’analyse des indicateurs permet de dresser un état des lieux sur la qualité des parcours de formation et leur débouché professionnel. Chaque indicateur apporte un éclairage complémentaire sur les dynamiques observées dans la base de données. </p> <p style=\"font-family: 'Arial', sans-serif; font-size: 14px; line-height: 1.6;\"> Le <strong>taux de réponse</strong> atteint en moyenne 71,7 %, avec une forte variabilité : certaines formations recueillent 100 % de réponses, tandis que d’autres sont à zéro. Cette hétérogénéité appelle à un examen des méthodes de collecte utilisées, notamment pour les formations sans retour. </p> <p style=\"font-family: 'Arial', sans-serif; font-size: 14px; line-height: 1.6;\"> Concernant le <strong>poids des disciplines</strong>, la moyenne est de 18,4 %, mais la médiane chute à 9 %, ce qui indique que seules quelques disciplines concentrent l’essentiel des effectifs. Cette tendance traduit une forte polarisation autour de certains domaines d’études. </p> <p style=\"font-family: 'Arial', sans-serif; font-size: 14px; line-height: 1.6;\"> Le <strong>taux d’insertion professionnelle</strong> est élevé, à 89,8 % en moyenne, avec un écart-type faible (6,7), traduisant une relative homogénéité entre formations. Ce bon niveau d'insertion peut être interprété comme le résultat d’ajustements récents du système éducatif aux besoins du marché. </p> <p style=\"font-family: 'Arial', sans-serif; font-size: 14px; line-height: 1.6;\"> Les <strong>emplois qualifiés</strong> représentent en moyenne 87,3 % des situations professionnelles, avec des écarts très larges (de 3 % à 100 %). Cette proportion reflète la montée en qualification de l’emploi, mais aussi une inflation des exigences de diplôme pour des postes de niveau intermédiaire. </p> <p style=\"font-family: 'Arial', sans-serif; font-size: 14px; line-height: 1.6;\"> En revanche, la <strong>stabilité de l’emploi</strong> semble plus fragile : elle atteint en moyenne 70,4 %, avec un premier quartile à 59 %, ce qui signale une précarité non négligeable. Ce constat renvoie à une hausse des contrats courts, en particulier pour les jeunes diplômés. </p> <p style=\"font-family: 'Arial', sans-serif; font-size: 14px; line-height: 1.6;\"> Le <strong>salaire brut annuel</strong> moyen s’établit à 29 874 €, mais les valeurs observées varient fortement entre 20 000 € et 49 100 €. Cette amplitude traduit des écarts sectoriels importants, bien que les niveaux moyens restent en cohérence avec les salaires d’entrée dans la vie active. </p> <p style=\"font-family: 'Arial', sans-serif; font-size: 14px; line-height: 1.6;\"> Enfin, le <strong>taux de chômage régional</strong> présente une moyenne de 8,7 %, oscillant entre 5,7 % et 20,1 % selon les territoires. Ces disparités régionales restent marquées, même si elles sont alignées avec les données nationales. </p> <div style=\"margin-top:20px; padding:15px; border-radius:8px; border-left:4px solid #2ecc71; font-family:'Arial', sans-serif; font-size: 14px;\"> <strong>🔎 Points de Vigilance :</strong><br> Les données relatives aux salaires sont partiellement renseignées (8 442 observations sur 19 945), limitant certaines analyses. La stabilité de l’emploi demeure le point le plus fragile de cette étude. Un croisement avec les secteurs d’activité permettrait d’affiner l’interprétation et d’identifier plus précisément les leviers d’action. </div> <div style=\"margin-top:15px; font-size:0.9em; text-align:right; font-family:'Arial', sans-serif;\"> <i>Analyse réalisée sur la base de 19603 observations – 2017 a 2020</i> </div>"
   ]
  },
  {
   "cell_type": "markdown",
   "id": "f5afb1d6",
   "metadata": {},
   "source": [
    "<div style=\"font-family: 'Arial', sans-serif; font-size: 14px; margin-top: 20px;\"> <h3 style=\"color: #75DFC1;\">Préparation des Variables pour l’Analyse Discriminante</h3>\n",
    "<p style=\"line-height: 1.6;\">\n",
    "Afin de nous inscrire dans le cadre méthodologique proposé dans le cours de Ricco Rakotomalala, nous adoptons une démarche de transformation des variables continues en variables discrètes. Cette étape est indispensable pour rendre les données compatibles avec une Analyse Factorielle Discriminante, qui nécessite une structure catégorielle sur certaines dimensions.\n",
    "</p>\n",
    "\n",
    "<p style=\"line-height: 1.6;\">\n",
    "Nous avons choisi d’utiliser une méthode de <strong>discrétisation en quantiles</strong>, consistant à découper les variables en classes contenant un effectif similaire d’individus. Par défaut, une division en quartiles produit quatre groupes équilibrés, mais il est également possible d'opter pour une division en déciles (dix classes) afin d'obtenir une granularité plus fine.\n",
    "</p>\n",
    "\n",
    "<p style=\"line-height: 1.6;\"><strong>✔️ Avantages de la discrétisation en quantiles :</strong></p>\n",
    "<ul style=\"margin-top: -10px; line-height: 1.6;\">\n",
    "    <li>Facilité de mise en œuvre et d’interprétation.</li>\n",
    "    <li>Répartition équilibrée des effectifs entre les classes.</li>\n",
    "    <li>Réduction de l'influence des valeurs extrêmes et des outliers.</li>\n",
    "    <li>Approche non paramétrique ne nécessitant aucune hypothèse sur la distribution des données.</li>\n",
    "</ul>\n",
    "\n",
    "<p style=\"line-height: 1.6;\"><strong>⚠️ Limites de cette approche :</strong></p>\n",
    "<ul style=\"margin-top: -10px; line-height: 1.6;\">\n",
    "    <li>Découpage purement statistique sans prise en compte de la signification métier ou contextuelle.</li>\n",
    "    <li>Classes parfois artificielles ou peu interprétables si la distribution est irrégulière.</li>\n",
    "    <li>Risque de perte d'information si la discrétisation est trop fine ou mal adaptée au nombre d’observations.</li>\n",
    "    <li>Stabilité des classes sensible aux variations de l’échantillon.</li>\n",
    "</ul>\n",
    "\n",
    "<p style=\"line-height: 1.6;\">\n",
    "Cette étape de discrétisation constitue donc un compromis entre la simplification des variables et la préservation de leur capacité à discriminer efficacement les groupes.\n",
    "</p>\n"
   ]
  },
  {
   "cell_type": "code",
   "execution_count": 8,
   "id": "14a8876a",
   "metadata": {},
   "outputs": [
    {
     "data": {
      "text/html": [
       "<div>\n",
       "<style scoped>\n",
       "    .dataframe tbody tr th:only-of-type {\n",
       "        vertical-align: middle;\n",
       "    }\n",
       "\n",
       "    .dataframe tbody tr th {\n",
       "        vertical-align: top;\n",
       "    }\n",
       "\n",
       "    .dataframe thead th {\n",
       "        text-align: right;\n",
       "    }\n",
       "</style>\n",
       "<table border=\"1\" class=\"dataframe\">\n",
       "  <thead>\n",
       "    <tr style=\"text-align: right;\">\n",
       "      <th></th>\n",
       "      <th>diplome</th>\n",
       "      <th>etablissement</th>\n",
       "      <th>discipline</th>\n",
       "      <th>situation</th>\n",
       "      <th>taux_de_reponse_categorie</th>\n",
       "      <th>poids_de_la_discipline_categorie</th>\n",
       "      <th>taux_dinsertion_categorie</th>\n",
       "      <th>emplois_cadre_ou_professions_intermediaires_categorie</th>\n",
       "      <th>emplois_stables_categorie</th>\n",
       "      <th>emplois_a_temps_plein_categorie</th>\n",
       "      <th>salaire_brut_annuel_estime_categorie</th>\n",
       "      <th>taux_de_chomage_regional_categorie</th>\n",
       "    </tr>\n",
       "  </thead>\n",
       "  <tbody>\n",
       "    <tr>\n",
       "      <th>0</th>\n",
       "      <td>MASTER LMD</td>\n",
       "      <td>Paris 3 - Sorbonne Nouvelle</td>\n",
       "      <td>Lettres, langues, arts</td>\n",
       "      <td>18 mois après le diplôme</td>\n",
       "      <td>C4</td>\n",
       "      <td>C8</td>\n",
       "      <td>C7</td>\n",
       "      <td>C4</td>\n",
       "      <td>C4</td>\n",
       "      <td>C6</td>\n",
       "      <td>C1</td>\n",
       "      <td>C2</td>\n",
       "    </tr>\n",
       "    <tr>\n",
       "      <th>1</th>\n",
       "      <td>MASTER LMD</td>\n",
       "      <td>Paris 3 - Sorbonne Nouvelle</td>\n",
       "      <td>Lettres, langues, arts</td>\n",
       "      <td>30 mois après le diplôme</td>\n",
       "      <td>C4</td>\n",
       "      <td>C8</td>\n",
       "      <td>C7</td>\n",
       "      <td>C6</td>\n",
       "      <td>C5</td>\n",
       "      <td>C7</td>\n",
       "      <td>C4</td>\n",
       "      <td>C2</td>\n",
       "    </tr>\n",
       "    <tr>\n",
       "      <th>2</th>\n",
       "      <td>MASTER ENS</td>\n",
       "      <td>Sorbonne Université</td>\n",
       "      <td>Masters enseignement</td>\n",
       "      <td>30 mois après le diplôme</td>\n",
       "      <td>C3</td>\n",
       "      <td>C10</td>\n",
       "      <td>C10</td>\n",
       "      <td>C9</td>\n",
       "      <td>C10</td>\n",
       "      <td>C8</td>\n",
       "      <td>C4</td>\n",
       "      <td>C2</td>\n",
       "    </tr>\n",
       "    <tr>\n",
       "      <th>4</th>\n",
       "      <td>MASTER LMD</td>\n",
       "      <td>Sorbonne Université</td>\n",
       "      <td>Informatique</td>\n",
       "      <td>18 mois après le diplôme</td>\n",
       "      <td>C5</td>\n",
       "      <td>C3</td>\n",
       "      <td>C10</td>\n",
       "      <td>C8</td>\n",
       "      <td>C9</td>\n",
       "      <td>C10</td>\n",
       "      <td>C9</td>\n",
       "      <td>C2</td>\n",
       "    </tr>\n",
       "    <tr>\n",
       "      <th>5</th>\n",
       "      <td>MASTER LMD</td>\n",
       "      <td>Sorbonne Université</td>\n",
       "      <td>Autres sciences, technologies et santé</td>\n",
       "      <td>18 mois après le diplôme</td>\n",
       "      <td>C4</td>\n",
       "      <td>C3</td>\n",
       "      <td>C9</td>\n",
       "      <td>C10</td>\n",
       "      <td>C8</td>\n",
       "      <td>C10</td>\n",
       "      <td>C8</td>\n",
       "      <td>C2</td>\n",
       "    </tr>\n",
       "  </tbody>\n",
       "</table>\n",
       "</div>"
      ],
      "text/plain": [
       "      diplome                etablissement  \\\n",
       "0  MASTER LMD  Paris 3 - Sorbonne Nouvelle   \n",
       "1  MASTER LMD  Paris 3 - Sorbonne Nouvelle   \n",
       "2  MASTER ENS          Sorbonne Université   \n",
       "4  MASTER LMD          Sorbonne Université   \n",
       "5  MASTER LMD          Sorbonne Université   \n",
       "\n",
       "                               discipline                 situation  \\\n",
       "0                  Lettres, langues, arts  18 mois après le diplôme   \n",
       "1                  Lettres, langues, arts  30 mois après le diplôme   \n",
       "2                    Masters enseignement  30 mois après le diplôme   \n",
       "4                            Informatique  18 mois après le diplôme   \n",
       "5  Autres sciences, technologies et santé  18 mois après le diplôme   \n",
       "\n",
       "  taux_de_reponse_categorie poids_de_la_discipline_categorie  \\\n",
       "0                        C4                               C8   \n",
       "1                        C4                               C8   \n",
       "2                        C3                              C10   \n",
       "4                        C5                               C3   \n",
       "5                        C4                               C3   \n",
       "\n",
       "  taux_dinsertion_categorie  \\\n",
       "0                        C7   \n",
       "1                        C7   \n",
       "2                       C10   \n",
       "4                       C10   \n",
       "5                        C9   \n",
       "\n",
       "  emplois_cadre_ou_professions_intermediaires_categorie  \\\n",
       "0                                                 C4      \n",
       "1                                                 C6      \n",
       "2                                                 C9      \n",
       "4                                                 C8      \n",
       "5                                                C10      \n",
       "\n",
       "  emplois_stables_categorie emplois_a_temps_plein_categorie  \\\n",
       "0                        C4                              C6   \n",
       "1                        C5                              C7   \n",
       "2                       C10                              C8   \n",
       "4                        C9                             C10   \n",
       "5                        C8                             C10   \n",
       "\n",
       "  salaire_brut_annuel_estime_categorie taux_de_chomage_regional_categorie  \n",
       "0                                   C1                                 C2  \n",
       "1                                   C4                                 C2  \n",
       "2                                   C4                                 C2  \n",
       "4                                   C9                                 C2  \n",
       "5                                   C8                                 C2  "
      ]
     },
     "metadata": {},
     "output_type": "display_data"
    }
   ],
   "source": [
    "\n",
    "# List of continuous variables to be clustered\n",
    "variables_continues = [\n",
    "    'taux_de_reponse', 'poids_de_la_discipline', 'taux_dinsertion',\n",
    "    'emplois_cadre_ou_professions_intermediaires', 'emplois_stables',\n",
    "    'emplois_a_temps_plein', 'salaire_brut_annuel_estime', 'taux_de_chomage_regional'\n",
    "]\n",
    "\n",
    "# Numb\n",
    "n_clusters = 10\n",
    "labels_ordonnés = [f'H{i+1}' for i in range(n_clusters)]\n",
    "\n",
    "def clusteriser_variable_kmeans(data, col, n_clusters):\n",
    "    # Index des lignes valides (non-NaN)\n",
    "    valid_idx = data[data[col].notna()].index\n",
    "\n",
    "    # Préparer les données valides\n",
    "    x = data.loc[valid_idx, [col]].values\n",
    "\n",
    "    # Appliquer KMeans\n",
    "    kmeans = KMeans(n_clusters=n_clusters, random_state=42, n_init='auto')\n",
    "    clusters = kmeans.fit_predict(x)\n",
    "\n",
    "    # Trier les clusters selon la moyenne\n",
    "    centroids = kmeans.cluster_centers_.flatten()\n",
    "    ordre_clusters = np.argsort(centroids)\n",
    "    labels_ordonnés = [f'C{i+1}' for i in range(n_clusters)]\n",
    "    mapping = {cluster_id: labels_ordonnés[rank] for rank, cluster_id in enumerate(ordre_clusters)}\n",
    "\n",
    "    # Créer une série de résultats avec des NaN par défaut\n",
    "    result = pd.Series(index=data.index, dtype='object')\n",
    "    result.loc[valid_idx] = [mapping[c] for c in clusters]\n",
    "\n",
    "    return result\n",
    "\n",
    "\n",
    "# Applied the clustering function to each continuous variable\n",
    "for col in variables_continues:\n",
    "    try:\n",
    "        data[f'{col}_categorie'] = clusteriser_variable_kmeans(data, col, n_clusters)\n",
    "    except Exception as e:\n",
    "        print(f\"❌ Erreur pour la variable {col}: {e}\")\n",
    "\n",
    "# Select only the categorical columns\n",
    "colonnes_categorielles = ['diplome', 'etablissement', 'discipline', 'situation'] + [f'{col}_categorie' for col in variables_continues]\n",
    "data_categorise = data[colonnes_categorielles]\n",
    "\n",
    "data_categorise = data_categorise.dropna()\n",
    "\n",
    "# Show the first few rows of the categorized DataFrame\n",
    "display(data_categorise.head())"
   ]
  },
  {
   "cell_type": "markdown",
   "id": "d8a37d1b",
   "metadata": {},
   "source": [
    "<div style=\"font-family: 'Arial', sans-serif; font-size: 14px; margin-top: 20px;\"> <h3 style=\"color: #75DFC1;\">Transformation des Variables Catégorielles : One-Hot Encoding</h3>\n",
    "<p style=\"line-height: 1.6;\">\n",
    "Dans le prolongement de la phase de préparation des données, nous appliquons une transformation des variables catégorielles par <strong>encodage binaire (one-hot encoding)</strong>. Cette méthode consiste à convertir chaque modalité d’une variable qualitative en une nouvelle variable binaire (0 ou 1), indiquant la présence ou l’absence de cette modalité pour chaque individu.\n",
    "</p>\n",
    "\n",
    "<p style=\"line-height: 1.6;\"><strong>✔️ Intérêt du one-hot encoding dans notre contexte :</strong></p>\n",
    "<ul style=\"margin-top: -10px; line-height: 1.6;\">\n",
    "    <li>Permet d’intégrer des variables qualitatives dans une analyse factorielle à orientation géométrique, comme l’AFD.</li>\n",
    "    <li>Préserve l'information contenue dans les catégories sans leur imposer d’ordre artificiel.</li>\n",
    "    <li>Assure la compatibilité avec les calculs matriciels nécessaires à l’analyse discriminante.</li>\n",
    "    <li>Facilite la lecture et l’interprétation des contributions par modalité.</li>\n",
    "</ul>\n",
    "\n",
    "<p style=\"line-height: 1.6;\">\n",
    "Cette étape est indispensable pour garantir une représentation fidèle des variables qualitatives dans l’espace factoriel, tout en respectant les contraintes structurelles de l’analyse discriminante.\n",
    "</p>\n"
   ]
  },
  {
   "cell_type": "code",
   "execution_count": 9,
   "id": "7a884365",
   "metadata": {},
   "outputs": [
    {
     "name": "stdout",
     "output_type": "stream",
     "text": [
      "Attention : La colonne 'etablissement' contient des valeurs non numériques et ne peut pas être convertie en entier.\n"
     ]
    },
    {
     "data": {
      "text/html": [
       "<div>\n",
       "<style scoped>\n",
       "    .dataframe tbody tr th:only-of-type {\n",
       "        vertical-align: middle;\n",
       "    }\n",
       "\n",
       "    .dataframe tbody tr th {\n",
       "        vertical-align: top;\n",
       "    }\n",
       "\n",
       "    .dataframe thead th {\n",
       "        text-align: right;\n",
       "    }\n",
       "</style>\n",
       "<table border=\"1\" class=\"dataframe\">\n",
       "  <thead>\n",
       "    <tr style=\"text-align: right;\">\n",
       "      <th></th>\n",
       "      <th>etablissement</th>\n",
       "      <th>diplome_MASTER ENS</th>\n",
       "      <th>diplome_MASTER LMD</th>\n",
       "      <th>discipline_Autres formations juridiques, économiques et de gestion</th>\n",
       "      <th>discipline_Autres sciences humaines et sociales</th>\n",
       "      <th>discipline_Autres sciences, technologies et santé</th>\n",
       "      <th>discipline_Droit</th>\n",
       "      <th>discipline_Ensemble formations juridiques, économiques et de gestion</th>\n",
       "      <th>discipline_Ensemble sciences humaines et sociales</th>\n",
       "      <th>discipline_Ensemble sciences, technologies et santé</th>\n",
       "      <th>...</th>\n",
       "      <th>taux_de_chomage_regional_categorie_C1</th>\n",
       "      <th>taux_de_chomage_regional_categorie_C10</th>\n",
       "      <th>taux_de_chomage_regional_categorie_C2</th>\n",
       "      <th>taux_de_chomage_regional_categorie_C3</th>\n",
       "      <th>taux_de_chomage_regional_categorie_C4</th>\n",
       "      <th>taux_de_chomage_regional_categorie_C5</th>\n",
       "      <th>taux_de_chomage_regional_categorie_C6</th>\n",
       "      <th>taux_de_chomage_regional_categorie_C7</th>\n",
       "      <th>taux_de_chomage_regional_categorie_C8</th>\n",
       "      <th>taux_de_chomage_regional_categorie_C9</th>\n",
       "    </tr>\n",
       "  </thead>\n",
       "  <tbody>\n",
       "    <tr>\n",
       "      <th>0</th>\n",
       "      <td>Paris 3 - Sorbonne Nouvelle</td>\n",
       "      <td>0</td>\n",
       "      <td>1</td>\n",
       "      <td>0</td>\n",
       "      <td>0</td>\n",
       "      <td>0</td>\n",
       "      <td>0</td>\n",
       "      <td>0</td>\n",
       "      <td>0</td>\n",
       "      <td>0</td>\n",
       "      <td>...</td>\n",
       "      <td>0</td>\n",
       "      <td>0</td>\n",
       "      <td>1</td>\n",
       "      <td>0</td>\n",
       "      <td>0</td>\n",
       "      <td>0</td>\n",
       "      <td>0</td>\n",
       "      <td>0</td>\n",
       "      <td>0</td>\n",
       "      <td>0</td>\n",
       "    </tr>\n",
       "    <tr>\n",
       "      <th>1</th>\n",
       "      <td>Paris 3 - Sorbonne Nouvelle</td>\n",
       "      <td>0</td>\n",
       "      <td>1</td>\n",
       "      <td>0</td>\n",
       "      <td>0</td>\n",
       "      <td>0</td>\n",
       "      <td>0</td>\n",
       "      <td>0</td>\n",
       "      <td>0</td>\n",
       "      <td>0</td>\n",
       "      <td>...</td>\n",
       "      <td>0</td>\n",
       "      <td>0</td>\n",
       "      <td>1</td>\n",
       "      <td>0</td>\n",
       "      <td>0</td>\n",
       "      <td>0</td>\n",
       "      <td>0</td>\n",
       "      <td>0</td>\n",
       "      <td>0</td>\n",
       "      <td>0</td>\n",
       "    </tr>\n",
       "    <tr>\n",
       "      <th>2</th>\n",
       "      <td>Sorbonne Université</td>\n",
       "      <td>1</td>\n",
       "      <td>0</td>\n",
       "      <td>0</td>\n",
       "      <td>0</td>\n",
       "      <td>0</td>\n",
       "      <td>0</td>\n",
       "      <td>0</td>\n",
       "      <td>0</td>\n",
       "      <td>0</td>\n",
       "      <td>...</td>\n",
       "      <td>0</td>\n",
       "      <td>0</td>\n",
       "      <td>1</td>\n",
       "      <td>0</td>\n",
       "      <td>0</td>\n",
       "      <td>0</td>\n",
       "      <td>0</td>\n",
       "      <td>0</td>\n",
       "      <td>0</td>\n",
       "      <td>0</td>\n",
       "    </tr>\n",
       "    <tr>\n",
       "      <th>4</th>\n",
       "      <td>Sorbonne Université</td>\n",
       "      <td>0</td>\n",
       "      <td>1</td>\n",
       "      <td>0</td>\n",
       "      <td>0</td>\n",
       "      <td>0</td>\n",
       "      <td>0</td>\n",
       "      <td>0</td>\n",
       "      <td>0</td>\n",
       "      <td>0</td>\n",
       "      <td>...</td>\n",
       "      <td>0</td>\n",
       "      <td>0</td>\n",
       "      <td>1</td>\n",
       "      <td>0</td>\n",
       "      <td>0</td>\n",
       "      <td>0</td>\n",
       "      <td>0</td>\n",
       "      <td>0</td>\n",
       "      <td>0</td>\n",
       "      <td>0</td>\n",
       "    </tr>\n",
       "    <tr>\n",
       "      <th>5</th>\n",
       "      <td>Sorbonne Université</td>\n",
       "      <td>0</td>\n",
       "      <td>1</td>\n",
       "      <td>0</td>\n",
       "      <td>0</td>\n",
       "      <td>1</td>\n",
       "      <td>0</td>\n",
       "      <td>0</td>\n",
       "      <td>0</td>\n",
       "      <td>0</td>\n",
       "      <td>...</td>\n",
       "      <td>0</td>\n",
       "      <td>0</td>\n",
       "      <td>1</td>\n",
       "      <td>0</td>\n",
       "      <td>0</td>\n",
       "      <td>0</td>\n",
       "      <td>0</td>\n",
       "      <td>0</td>\n",
       "      <td>0</td>\n",
       "      <td>0</td>\n",
       "    </tr>\n",
       "  </tbody>\n",
       "</table>\n",
       "<p>5 rows × 104 columns</p>\n",
       "</div>"
      ],
      "text/plain": [
       "                 etablissement  diplome_MASTER ENS  diplome_MASTER LMD  \\\n",
       "0  Paris 3 - Sorbonne Nouvelle                   0                   1   \n",
       "1  Paris 3 - Sorbonne Nouvelle                   0                   1   \n",
       "2          Sorbonne Université                   1                   0   \n",
       "4          Sorbonne Université                   0                   1   \n",
       "5          Sorbonne Université                   0                   1   \n",
       "\n",
       "   discipline_Autres formations juridiques, économiques et de gestion  \\\n",
       "0                                                  0                    \n",
       "1                                                  0                    \n",
       "2                                                  0                    \n",
       "4                                                  0                    \n",
       "5                                                  0                    \n",
       "\n",
       "   discipline_Autres sciences humaines et sociales  \\\n",
       "0                                                0   \n",
       "1                                                0   \n",
       "2                                                0   \n",
       "4                                                0   \n",
       "5                                                0   \n",
       "\n",
       "   discipline_Autres sciences, technologies et santé  discipline_Droit  \\\n",
       "0                                                  0                 0   \n",
       "1                                                  0                 0   \n",
       "2                                                  0                 0   \n",
       "4                                                  0                 0   \n",
       "5                                                  1                 0   \n",
       "\n",
       "   discipline_Ensemble formations juridiques, économiques et de gestion  \\\n",
       "0                                                  0                      \n",
       "1                                                  0                      \n",
       "2                                                  0                      \n",
       "4                                                  0                      \n",
       "5                                                  0                      \n",
       "\n",
       "   discipline_Ensemble sciences humaines et sociales  \\\n",
       "0                                                  0   \n",
       "1                                                  0   \n",
       "2                                                  0   \n",
       "4                                                  0   \n",
       "5                                                  0   \n",
       "\n",
       "   discipline_Ensemble sciences, technologies et santé  ...  \\\n",
       "0                                                  0    ...   \n",
       "1                                                  0    ...   \n",
       "2                                                  0    ...   \n",
       "4                                                  0    ...   \n",
       "5                                                  0    ...   \n",
       "\n",
       "   taux_de_chomage_regional_categorie_C1  \\\n",
       "0                                      0   \n",
       "1                                      0   \n",
       "2                                      0   \n",
       "4                                      0   \n",
       "5                                      0   \n",
       "\n",
       "   taux_de_chomage_regional_categorie_C10  \\\n",
       "0                                       0   \n",
       "1                                       0   \n",
       "2                                       0   \n",
       "4                                       0   \n",
       "5                                       0   \n",
       "\n",
       "   taux_de_chomage_regional_categorie_C2  \\\n",
       "0                                      1   \n",
       "1                                      1   \n",
       "2                                      1   \n",
       "4                                      1   \n",
       "5                                      1   \n",
       "\n",
       "   taux_de_chomage_regional_categorie_C3  \\\n",
       "0                                      0   \n",
       "1                                      0   \n",
       "2                                      0   \n",
       "4                                      0   \n",
       "5                                      0   \n",
       "\n",
       "   taux_de_chomage_regional_categorie_C4  \\\n",
       "0                                      0   \n",
       "1                                      0   \n",
       "2                                      0   \n",
       "4                                      0   \n",
       "5                                      0   \n",
       "\n",
       "   taux_de_chomage_regional_categorie_C5  \\\n",
       "0                                      0   \n",
       "1                                      0   \n",
       "2                                      0   \n",
       "4                                      0   \n",
       "5                                      0   \n",
       "\n",
       "   taux_de_chomage_regional_categorie_C6  \\\n",
       "0                                      0   \n",
       "1                                      0   \n",
       "2                                      0   \n",
       "4                                      0   \n",
       "5                                      0   \n",
       "\n",
       "   taux_de_chomage_regional_categorie_C7  \\\n",
       "0                                      0   \n",
       "1                                      0   \n",
       "2                                      0   \n",
       "4                                      0   \n",
       "5                                      0   \n",
       "\n",
       "   taux_de_chomage_regional_categorie_C8  \\\n",
       "0                                      0   \n",
       "1                                      0   \n",
       "2                                      0   \n",
       "4                                      0   \n",
       "5                                      0   \n",
       "\n",
       "   taux_de_chomage_regional_categorie_C9  \n",
       "0                                      0  \n",
       "1                                      0  \n",
       "2                                      0  \n",
       "4                                      0  \n",
       "5                                      0  \n",
       "\n",
       "[5 rows x 104 columns]"
      ]
     },
     "metadata": {},
     "output_type": "display_data"
    }
   ],
   "source": [
    "# Specify the columns to be one-hot encoded\n",
    "colonnes_a_encoder = [col for col in colonnes_categorielles if col != 'etablissement']\n",
    "\n",
    "# Apply one-hot encoding to the specified columns\n",
    "data_encoded = pd.get_dummies(data_categorise, columns=colonnes_a_encoder, prefix_sep='_')\n",
    "# Convert the encoded DataFrame to integer type to have binary values (0 and 1)\n",
    "# Note: This step is optional, as get_dummies already creates binary columns\n",
    "for col in data_encoded.columns:\n",
    "    if data_encoded[col].dtype not in [np.int64, np.float64, 'bool']:\n",
    "        print(f\"Attention : La colonne '{col}' contient des valeurs non numériques et ne peut pas être convertie en entier.\")\n",
    "\n",
    "# Si vous voulez convertir uniquement les colonnes booléennes en entiers (0 et 1)\n",
    "data_encoded = data_encoded.astype({col: int for col in data_encoded.select_dtypes(include=['bool']).columns})\n",
    "\n",
    "# Afficher un aperçu des données encodées après correction\n",
    "display(data_encoded.head())\n"
   ]
  },
  {
   "cell_type": "markdown",
   "id": "36e871f7",
   "metadata": {},
   "source": [
    "<div style=\"font-family: 'Arial', sans-serif; font-size: 14px; margin-top: 20px;\"> <h3 style=\"color: #75DFC1;\">Construction du Tableau de Contingence</h3>\n",
    "<p style=\"line-height: 1.6;\">\n",
    "À la suite du one-hot encoding, nous construisons un <strong>tableau de contingence</strong> entre les <strong>modalités des variables explicatives</strong> (issues de la discrétisation ou du codage binaire) et la <strong>variable cible</strong> (groupe ou classe à prédire dans l’AFD). \n",
    "</p>\n",
    "\n",
    "<p style=\"line-height: 1.6;\">\n",
    "Un tableau de contingence est une matrice qui croise deux variables qualitatives en comptabilisant les effectifs pour chaque combinaison de modalités. Dans notre cas, il s’agit de compter combien d’individus appartenant à chaque classe (variable cible) présentent une certaine modalité d’une variable explicative.\n",
    "</p>\n",
    "\n",
    "<p style=\"line-height: 1.6;\"><strong>✔️ Objectifs et intérêts du tableau de contingence :</strong></p>\n",
    "<ul style=\"margin-top: -10px; line-height: 1.6;\">\n",
    "    <li>Fournir une base de calcul pour l’Analyse Factorielle Discriminante, en représentant la distribution des modalités par groupe.</li>\n",
    "    <li>Permettre d’évaluer la relation entre chaque modalité et les différentes classes de la variable à expliquer.</li>\n",
    "    <li>Préparer les données sous une forme directement exploitable pour la construction de l’espace factoriel.</li>\n",
    "</ul>\n",
    "\n",
    "<p style=\"line-height: 1.6;\">\n",
    "Ce tableau représente donc une étape intermédiaire mais essentielle, reliant les variables explicatives transformées à la structure des groupes cibles, et constituant l’entrée principale de l’AFD.\n",
    "</p>\n"
   ]
  },
  {
   "cell_type": "code",
   "execution_count": 10,
   "id": "71093658",
   "metadata": {},
   "outputs": [
    {
     "data": {
      "text/html": [
       "<div>\n",
       "<style scoped>\n",
       "    .dataframe tbody tr th:only-of-type {\n",
       "        vertical-align: middle;\n",
       "    }\n",
       "\n",
       "    .dataframe tbody tr th {\n",
       "        vertical-align: top;\n",
       "    }\n",
       "\n",
       "    .dataframe thead th {\n",
       "        text-align: right;\n",
       "    }\n",
       "</style>\n",
       "<table border=\"1\" class=\"dataframe\">\n",
       "  <thead>\n",
       "    <tr style=\"text-align: right;\">\n",
       "      <th></th>\n",
       "      <th>diplome_MASTER ENS</th>\n",
       "      <th>diplome_MASTER LMD</th>\n",
       "      <th>discipline_Autres formations juridiques, économiques et de gestion</th>\n",
       "      <th>discipline_Autres sciences humaines et sociales</th>\n",
       "      <th>discipline_Autres sciences, technologies et santé</th>\n",
       "      <th>discipline_Droit</th>\n",
       "      <th>discipline_Ensemble formations juridiques, économiques et de gestion</th>\n",
       "      <th>discipline_Ensemble sciences humaines et sociales</th>\n",
       "      <th>discipline_Ensemble sciences, technologies et santé</th>\n",
       "      <th>discipline_Gestion</th>\n",
       "      <th>...</th>\n",
       "      <th>taux_de_chomage_regional_categorie_C1</th>\n",
       "      <th>taux_de_chomage_regional_categorie_C10</th>\n",
       "      <th>taux_de_chomage_regional_categorie_C2</th>\n",
       "      <th>taux_de_chomage_regional_categorie_C3</th>\n",
       "      <th>taux_de_chomage_regional_categorie_C4</th>\n",
       "      <th>taux_de_chomage_regional_categorie_C5</th>\n",
       "      <th>taux_de_chomage_regional_categorie_C6</th>\n",
       "      <th>taux_de_chomage_regional_categorie_C7</th>\n",
       "      <th>taux_de_chomage_regional_categorie_C8</th>\n",
       "      <th>taux_de_chomage_regional_categorie_C9</th>\n",
       "    </tr>\n",
       "    <tr>\n",
       "      <th>etablissement</th>\n",
       "      <th></th>\n",
       "      <th></th>\n",
       "      <th></th>\n",
       "      <th></th>\n",
       "      <th></th>\n",
       "      <th></th>\n",
       "      <th></th>\n",
       "      <th></th>\n",
       "      <th></th>\n",
       "      <th></th>\n",
       "      <th></th>\n",
       "      <th></th>\n",
       "      <th></th>\n",
       "      <th></th>\n",
       "      <th></th>\n",
       "      <th></th>\n",
       "      <th></th>\n",
       "      <th></th>\n",
       "      <th></th>\n",
       "      <th></th>\n",
       "      <th></th>\n",
       "    </tr>\n",
       "  </thead>\n",
       "  <tbody>\n",
       "    <tr>\n",
       "      <th>Aix-Marseille</th>\n",
       "      <td>21</td>\n",
       "      <td>282</td>\n",
       "      <td>2</td>\n",
       "      <td>20</td>\n",
       "      <td>20</td>\n",
       "      <td>20</td>\n",
       "      <td>20</td>\n",
       "      <td>20</td>\n",
       "      <td>20</td>\n",
       "      <td>20</td>\n",
       "      <td>...</td>\n",
       "      <td>0</td>\n",
       "      <td>0</td>\n",
       "      <td>0</td>\n",
       "      <td>60</td>\n",
       "      <td>62</td>\n",
       "      <td>61</td>\n",
       "      <td>120</td>\n",
       "      <td>0</td>\n",
       "      <td>0</td>\n",
       "      <td>0</td>\n",
       "    </tr>\n",
       "    <tr>\n",
       "      <th>Amiens - Picardie Jules-Verne</th>\n",
       "      <td>19</td>\n",
       "      <td>117</td>\n",
       "      <td>0</td>\n",
       "      <td>1</td>\n",
       "      <td>6</td>\n",
       "      <td>2</td>\n",
       "      <td>19</td>\n",
       "      <td>19</td>\n",
       "      <td>19</td>\n",
       "      <td>8</td>\n",
       "      <td>...</td>\n",
       "      <td>0</td>\n",
       "      <td>0</td>\n",
       "      <td>0</td>\n",
       "      <td>0</td>\n",
       "      <td>27</td>\n",
       "      <td>35</td>\n",
       "      <td>58</td>\n",
       "      <td>16</td>\n",
       "      <td>0</td>\n",
       "      <td>0</td>\n",
       "    </tr>\n",
       "    <tr>\n",
       "      <th>Angers</th>\n",
       "      <td>8</td>\n",
       "      <td>144</td>\n",
       "      <td>4</td>\n",
       "      <td>9</td>\n",
       "      <td>11</td>\n",
       "      <td>0</td>\n",
       "      <td>20</td>\n",
       "      <td>20</td>\n",
       "      <td>20</td>\n",
       "      <td>20</td>\n",
       "      <td>...</td>\n",
       "      <td>45</td>\n",
       "      <td>0</td>\n",
       "      <td>43</td>\n",
       "      <td>14</td>\n",
       "      <td>50</td>\n",
       "      <td>0</td>\n",
       "      <td>0</td>\n",
       "      <td>0</td>\n",
       "      <td>0</td>\n",
       "      <td>0</td>\n",
       "    </tr>\n",
       "    <tr>\n",
       "      <th>Antilles</th>\n",
       "      <td>6</td>\n",
       "      <td>2</td>\n",
       "      <td>0</td>\n",
       "      <td>0</td>\n",
       "      <td>0</td>\n",
       "      <td>0</td>\n",
       "      <td>2</td>\n",
       "      <td>0</td>\n",
       "      <td>0</td>\n",
       "      <td>0</td>\n",
       "      <td>...</td>\n",
       "      <td>0</td>\n",
       "      <td>5</td>\n",
       "      <td>0</td>\n",
       "      <td>0</td>\n",
       "      <td>0</td>\n",
       "      <td>0</td>\n",
       "      <td>0</td>\n",
       "      <td>0</td>\n",
       "      <td>3</td>\n",
       "      <td>0</td>\n",
       "    </tr>\n",
       "    <tr>\n",
       "      <th>Artois</th>\n",
       "      <td>9</td>\n",
       "      <td>78</td>\n",
       "      <td>6</td>\n",
       "      <td>0</td>\n",
       "      <td>0</td>\n",
       "      <td>0</td>\n",
       "      <td>20</td>\n",
       "      <td>3</td>\n",
       "      <td>19</td>\n",
       "      <td>8</td>\n",
       "      <td>...</td>\n",
       "      <td>0</td>\n",
       "      <td>0</td>\n",
       "      <td>0</td>\n",
       "      <td>0</td>\n",
       "      <td>15</td>\n",
       "      <td>20</td>\n",
       "      <td>26</td>\n",
       "      <td>23</td>\n",
       "      <td>3</td>\n",
       "      <td>0</td>\n",
       "    </tr>\n",
       "  </tbody>\n",
       "</table>\n",
       "<p>5 rows × 103 columns</p>\n",
       "</div>"
      ],
      "text/plain": [
       "                               diplome_MASTER ENS  diplome_MASTER LMD  \\\n",
       "etablissement                                                           \n",
       "Aix-Marseille                                  21                 282   \n",
       "Amiens - Picardie Jules-Verne                  19                 117   \n",
       "Angers                                          8                 144   \n",
       "Antilles                                        6                   2   \n",
       "Artois                                          9                  78   \n",
       "\n",
       "                               discipline_Autres formations juridiques, économiques et de gestion  \\\n",
       "etablissement                                                                                       \n",
       "Aix-Marseille                                                                  2                    \n",
       "Amiens - Picardie Jules-Verne                                                  0                    \n",
       "Angers                                                                         4                    \n",
       "Antilles                                                                       0                    \n",
       "Artois                                                                         6                    \n",
       "\n",
       "                               discipline_Autres sciences humaines et sociales  \\\n",
       "etablissement                                                                    \n",
       "Aix-Marseille                                                               20   \n",
       "Amiens - Picardie Jules-Verne                                                1   \n",
       "Angers                                                                       9   \n",
       "Antilles                                                                     0   \n",
       "Artois                                                                       0   \n",
       "\n",
       "                               discipline_Autres sciences, technologies et santé  \\\n",
       "etablissement                                                                      \n",
       "Aix-Marseille                                                                 20   \n",
       "Amiens - Picardie Jules-Verne                                                  6   \n",
       "Angers                                                                        11   \n",
       "Antilles                                                                       0   \n",
       "Artois                                                                         0   \n",
       "\n",
       "                               discipline_Droit  \\\n",
       "etablissement                                     \n",
       "Aix-Marseille                                20   \n",
       "Amiens - Picardie Jules-Verne                 2   \n",
       "Angers                                        0   \n",
       "Antilles                                      0   \n",
       "Artois                                        0   \n",
       "\n",
       "                               discipline_Ensemble formations juridiques, économiques et de gestion  \\\n",
       "etablissement                                                                                         \n",
       "Aix-Marseille                                                                 20                      \n",
       "Amiens - Picardie Jules-Verne                                                 19                      \n",
       "Angers                                                                        20                      \n",
       "Antilles                                                                       2                      \n",
       "Artois                                                                        20                      \n",
       "\n",
       "                               discipline_Ensemble sciences humaines et sociales  \\\n",
       "etablissement                                                                      \n",
       "Aix-Marseille                                                                 20   \n",
       "Amiens - Picardie Jules-Verne                                                 19   \n",
       "Angers                                                                        20   \n",
       "Antilles                                                                       0   \n",
       "Artois                                                                         3   \n",
       "\n",
       "                               discipline_Ensemble sciences, technologies et santé  \\\n",
       "etablissement                                                                        \n",
       "Aix-Marseille                                                                 20     \n",
       "Amiens - Picardie Jules-Verne                                                 19     \n",
       "Angers                                                                        20     \n",
       "Antilles                                                                       0     \n",
       "Artois                                                                        19     \n",
       "\n",
       "                               discipline_Gestion  ...  \\\n",
       "etablissement                                      ...   \n",
       "Aix-Marseille                                  20  ...   \n",
       "Amiens - Picardie Jules-Verne                   8  ...   \n",
       "Angers                                         20  ...   \n",
       "Antilles                                        0  ...   \n",
       "Artois                                          8  ...   \n",
       "\n",
       "                               taux_de_chomage_regional_categorie_C1  \\\n",
       "etablissement                                                          \n",
       "Aix-Marseille                                                      0   \n",
       "Amiens - Picardie Jules-Verne                                      0   \n",
       "Angers                                                            45   \n",
       "Antilles                                                           0   \n",
       "Artois                                                             0   \n",
       "\n",
       "                               taux_de_chomage_regional_categorie_C10  \\\n",
       "etablissement                                                           \n",
       "Aix-Marseille                                                       0   \n",
       "Amiens - Picardie Jules-Verne                                       0   \n",
       "Angers                                                              0   \n",
       "Antilles                                                            5   \n",
       "Artois                                                              0   \n",
       "\n",
       "                               taux_de_chomage_regional_categorie_C2  \\\n",
       "etablissement                                                          \n",
       "Aix-Marseille                                                      0   \n",
       "Amiens - Picardie Jules-Verne                                      0   \n",
       "Angers                                                            43   \n",
       "Antilles                                                           0   \n",
       "Artois                                                             0   \n",
       "\n",
       "                               taux_de_chomage_regional_categorie_C3  \\\n",
       "etablissement                                                          \n",
       "Aix-Marseille                                                     60   \n",
       "Amiens - Picardie Jules-Verne                                      0   \n",
       "Angers                                                            14   \n",
       "Antilles                                                           0   \n",
       "Artois                                                             0   \n",
       "\n",
       "                               taux_de_chomage_regional_categorie_C4  \\\n",
       "etablissement                                                          \n",
       "Aix-Marseille                                                     62   \n",
       "Amiens - Picardie Jules-Verne                                     27   \n",
       "Angers                                                            50   \n",
       "Antilles                                                           0   \n",
       "Artois                                                            15   \n",
       "\n",
       "                               taux_de_chomage_regional_categorie_C5  \\\n",
       "etablissement                                                          \n",
       "Aix-Marseille                                                     61   \n",
       "Amiens - Picardie Jules-Verne                                     35   \n",
       "Angers                                                             0   \n",
       "Antilles                                                           0   \n",
       "Artois                                                            20   \n",
       "\n",
       "                               taux_de_chomage_regional_categorie_C6  \\\n",
       "etablissement                                                          \n",
       "Aix-Marseille                                                    120   \n",
       "Amiens - Picardie Jules-Verne                                     58   \n",
       "Angers                                                             0   \n",
       "Antilles                                                           0   \n",
       "Artois                                                            26   \n",
       "\n",
       "                               taux_de_chomage_regional_categorie_C7  \\\n",
       "etablissement                                                          \n",
       "Aix-Marseille                                                      0   \n",
       "Amiens - Picardie Jules-Verne                                     16   \n",
       "Angers                                                             0   \n",
       "Antilles                                                           0   \n",
       "Artois                                                            23   \n",
       "\n",
       "                               taux_de_chomage_regional_categorie_C8  \\\n",
       "etablissement                                                          \n",
       "Aix-Marseille                                                      0   \n",
       "Amiens - Picardie Jules-Verne                                      0   \n",
       "Angers                                                             0   \n",
       "Antilles                                                           3   \n",
       "Artois                                                             3   \n",
       "\n",
       "                               taux_de_chomage_regional_categorie_C9  \n",
       "etablissement                                                         \n",
       "Aix-Marseille                                                      0  \n",
       "Amiens - Picardie Jules-Verne                                      0  \n",
       "Angers                                                             0  \n",
       "Antilles                                                           0  \n",
       "Artois                                                             0  \n",
       "\n",
       "[5 rows x 103 columns]"
      ]
     },
     "metadata": {},
     "output_type": "display_data"
    },
    {
     "name": "stderr",
     "output_type": "stream",
     "text": [
      "C:\\Users\\daniel.messan_primel\\AppData\\Local\\Temp\\ipykernel_16636\\656623595.py:13: PerformanceWarning: DataFrame is highly fragmented.  This is usually the result of calling `frame.insert` many times, which has poor performance.  Consider joining all columns at once using pd.concat(axis=1) instead. To get a de-fragmented frame, use `newframe = frame.copy()`\n",
      "  grouped_data['Total'] = grouped_data.sum(axis=1)  # Total ligne\n"
     ]
    }
   ],
   "source": [
    "# Group by 'etablissement' and sum all columns\n",
    "grouped_data = data_encoded.groupby('etablissement').sum()\n",
    "\n",
    "# Display the resulting DataFrame\n",
    "display(grouped_data.head())\n",
    "\n",
    "# Calcul du profil ligne\n",
    "profil_ligne = grouped_data.div(grouped_data.sum(axis=1), axis=0)\n",
    "\n",
    "# Calcul du profil colonne\n",
    "profil_colonne = grouped_data.div(grouped_data.sum(axis=0), axis=1)\n",
    "\n",
    "grouped_data['Total'] = grouped_data.sum(axis=1)  # Total ligne\n",
    "grouped_data.loc['Total'] = grouped_data.sum()     # Total colonne\n",
    "\n",
    "# Save the DataFrame to a CSV file for further analysis\n",
    "grouped_data.to_csv(\"Data/contingency_table.csv\")"
   ]
  },
  {
   "cell_type": "code",
   "execution_count": 11,
   "id": "fcb0dbc2",
   "metadata": {},
   "outputs": [
    {
     "name": "stdout",
     "output_type": "stream",
     "text": [
      "🟦 Profil ligne :\n"
     ]
    },
    {
     "data": {
      "text/html": [
       "<div>\n",
       "<style scoped>\n",
       "    .dataframe tbody tr th:only-of-type {\n",
       "        vertical-align: middle;\n",
       "    }\n",
       "\n",
       "    .dataframe tbody tr th {\n",
       "        vertical-align: top;\n",
       "    }\n",
       "\n",
       "    .dataframe thead th {\n",
       "        text-align: right;\n",
       "    }\n",
       "</style>\n",
       "<table border=\"1\" class=\"dataframe\">\n",
       "  <thead>\n",
       "    <tr style=\"text-align: right;\">\n",
       "      <th></th>\n",
       "      <th>diplome_MASTER ENS</th>\n",
       "      <th>diplome_MASTER LMD</th>\n",
       "      <th>discipline_Autres formations juridiques, économiques et de gestion</th>\n",
       "      <th>discipline_Autres sciences humaines et sociales</th>\n",
       "      <th>discipline_Autres sciences, technologies et santé</th>\n",
       "      <th>discipline_Droit</th>\n",
       "      <th>discipline_Ensemble formations juridiques, économiques et de gestion</th>\n",
       "      <th>discipline_Ensemble sciences humaines et sociales</th>\n",
       "      <th>discipline_Ensemble sciences, technologies et santé</th>\n",
       "      <th>discipline_Gestion</th>\n",
       "      <th>...</th>\n",
       "      <th>taux_de_chomage_regional_categorie_C1</th>\n",
       "      <th>taux_de_chomage_regional_categorie_C10</th>\n",
       "      <th>taux_de_chomage_regional_categorie_C2</th>\n",
       "      <th>taux_de_chomage_regional_categorie_C3</th>\n",
       "      <th>taux_de_chomage_regional_categorie_C4</th>\n",
       "      <th>taux_de_chomage_regional_categorie_C5</th>\n",
       "      <th>taux_de_chomage_regional_categorie_C6</th>\n",
       "      <th>taux_de_chomage_regional_categorie_C7</th>\n",
       "      <th>taux_de_chomage_regional_categorie_C8</th>\n",
       "      <th>taux_de_chomage_regional_categorie_C9</th>\n",
       "    </tr>\n",
       "    <tr>\n",
       "      <th>etablissement</th>\n",
       "      <th></th>\n",
       "      <th></th>\n",
       "      <th></th>\n",
       "      <th></th>\n",
       "      <th></th>\n",
       "      <th></th>\n",
       "      <th></th>\n",
       "      <th></th>\n",
       "      <th></th>\n",
       "      <th></th>\n",
       "      <th></th>\n",
       "      <th></th>\n",
       "      <th></th>\n",
       "      <th></th>\n",
       "      <th></th>\n",
       "      <th></th>\n",
       "      <th></th>\n",
       "      <th></th>\n",
       "      <th></th>\n",
       "      <th></th>\n",
       "      <th></th>\n",
       "    </tr>\n",
       "  </thead>\n",
       "  <tbody>\n",
       "    <tr>\n",
       "      <th>Aix-Marseille</th>\n",
       "      <td>0.006301</td>\n",
       "      <td>0.084608</td>\n",
       "      <td>0.000600</td>\n",
       "      <td>0.006001</td>\n",
       "      <td>0.006001</td>\n",
       "      <td>0.006001</td>\n",
       "      <td>0.006001</td>\n",
       "      <td>0.006001</td>\n",
       "      <td>0.006001</td>\n",
       "      <td>0.006001</td>\n",
       "      <td>...</td>\n",
       "      <td>0.000000</td>\n",
       "      <td>0.000000</td>\n",
       "      <td>0.000000</td>\n",
       "      <td>0.018002</td>\n",
       "      <td>0.018602</td>\n",
       "      <td>0.018302</td>\n",
       "      <td>0.036004</td>\n",
       "      <td>0.000000</td>\n",
       "      <td>0.000000</td>\n",
       "      <td>0.0</td>\n",
       "    </tr>\n",
       "    <tr>\n",
       "      <th>Amiens - Picardie Jules-Verne</th>\n",
       "      <td>0.012701</td>\n",
       "      <td>0.078209</td>\n",
       "      <td>0.000000</td>\n",
       "      <td>0.000668</td>\n",
       "      <td>0.004011</td>\n",
       "      <td>0.001337</td>\n",
       "      <td>0.012701</td>\n",
       "      <td>0.012701</td>\n",
       "      <td>0.012701</td>\n",
       "      <td>0.005348</td>\n",
       "      <td>...</td>\n",
       "      <td>0.000000</td>\n",
       "      <td>0.000000</td>\n",
       "      <td>0.000000</td>\n",
       "      <td>0.000000</td>\n",
       "      <td>0.018048</td>\n",
       "      <td>0.023396</td>\n",
       "      <td>0.038770</td>\n",
       "      <td>0.010695</td>\n",
       "      <td>0.000000</td>\n",
       "      <td>0.0</td>\n",
       "    </tr>\n",
       "    <tr>\n",
       "      <th>Angers</th>\n",
       "      <td>0.004785</td>\n",
       "      <td>0.086124</td>\n",
       "      <td>0.002392</td>\n",
       "      <td>0.005383</td>\n",
       "      <td>0.006579</td>\n",
       "      <td>0.000000</td>\n",
       "      <td>0.011962</td>\n",
       "      <td>0.011962</td>\n",
       "      <td>0.011962</td>\n",
       "      <td>0.011962</td>\n",
       "      <td>...</td>\n",
       "      <td>0.026914</td>\n",
       "      <td>0.000000</td>\n",
       "      <td>0.025718</td>\n",
       "      <td>0.008373</td>\n",
       "      <td>0.029904</td>\n",
       "      <td>0.000000</td>\n",
       "      <td>0.000000</td>\n",
       "      <td>0.000000</td>\n",
       "      <td>0.000000</td>\n",
       "      <td>0.0</td>\n",
       "    </tr>\n",
       "    <tr>\n",
       "      <th>Antilles</th>\n",
       "      <td>0.068182</td>\n",
       "      <td>0.022727</td>\n",
       "      <td>0.000000</td>\n",
       "      <td>0.000000</td>\n",
       "      <td>0.000000</td>\n",
       "      <td>0.000000</td>\n",
       "      <td>0.022727</td>\n",
       "      <td>0.000000</td>\n",
       "      <td>0.000000</td>\n",
       "      <td>0.000000</td>\n",
       "      <td>...</td>\n",
       "      <td>0.000000</td>\n",
       "      <td>0.056818</td>\n",
       "      <td>0.000000</td>\n",
       "      <td>0.000000</td>\n",
       "      <td>0.000000</td>\n",
       "      <td>0.000000</td>\n",
       "      <td>0.000000</td>\n",
       "      <td>0.000000</td>\n",
       "      <td>0.034091</td>\n",
       "      <td>0.0</td>\n",
       "    </tr>\n",
       "    <tr>\n",
       "      <th>Artois</th>\n",
       "      <td>0.009404</td>\n",
       "      <td>0.081505</td>\n",
       "      <td>0.006270</td>\n",
       "      <td>0.000000</td>\n",
       "      <td>0.000000</td>\n",
       "      <td>0.000000</td>\n",
       "      <td>0.020899</td>\n",
       "      <td>0.003135</td>\n",
       "      <td>0.019854</td>\n",
       "      <td>0.008359</td>\n",
       "      <td>...</td>\n",
       "      <td>0.000000</td>\n",
       "      <td>0.000000</td>\n",
       "      <td>0.000000</td>\n",
       "      <td>0.000000</td>\n",
       "      <td>0.015674</td>\n",
       "      <td>0.020899</td>\n",
       "      <td>0.027168</td>\n",
       "      <td>0.024033</td>\n",
       "      <td>0.003135</td>\n",
       "      <td>0.0</td>\n",
       "    </tr>\n",
       "    <tr>\n",
       "      <th>...</th>\n",
       "      <td>...</td>\n",
       "      <td>...</td>\n",
       "      <td>...</td>\n",
       "      <td>...</td>\n",
       "      <td>...</td>\n",
       "      <td>...</td>\n",
       "      <td>...</td>\n",
       "      <td>...</td>\n",
       "      <td>...</td>\n",
       "      <td>...</td>\n",
       "      <td>...</td>\n",
       "      <td>...</td>\n",
       "      <td>...</td>\n",
       "      <td>...</td>\n",
       "      <td>...</td>\n",
       "      <td>...</td>\n",
       "      <td>...</td>\n",
       "      <td>...</td>\n",
       "      <td>...</td>\n",
       "      <td>...</td>\n",
       "      <td>...</td>\n",
       "    </tr>\n",
       "    <tr>\n",
       "      <th>Université Polytechnique Hauts-de-France</th>\n",
       "      <td>0.000000</td>\n",
       "      <td>0.090909</td>\n",
       "      <td>0.000000</td>\n",
       "      <td>0.000000</td>\n",
       "      <td>0.012285</td>\n",
       "      <td>0.004914</td>\n",
       "      <td>0.019656</td>\n",
       "      <td>0.000000</td>\n",
       "      <td>0.019656</td>\n",
       "      <td>0.019656</td>\n",
       "      <td>...</td>\n",
       "      <td>0.000000</td>\n",
       "      <td>0.000000</td>\n",
       "      <td>0.000000</td>\n",
       "      <td>0.000000</td>\n",
       "      <td>0.000000</td>\n",
       "      <td>0.025799</td>\n",
       "      <td>0.034398</td>\n",
       "      <td>0.024570</td>\n",
       "      <td>0.006143</td>\n",
       "      <td>0.0</td>\n",
       "    </tr>\n",
       "    <tr>\n",
       "      <th>Université Sorbonne Paris Nord</th>\n",
       "      <td>0.000000</td>\n",
       "      <td>0.090909</td>\n",
       "      <td>0.000000</td>\n",
       "      <td>0.001783</td>\n",
       "      <td>0.000000</td>\n",
       "      <td>0.000000</td>\n",
       "      <td>0.030303</td>\n",
       "      <td>0.028520</td>\n",
       "      <td>0.000000</td>\n",
       "      <td>0.010695</td>\n",
       "      <td>...</td>\n",
       "      <td>0.000000</td>\n",
       "      <td>0.000000</td>\n",
       "      <td>0.033868</td>\n",
       "      <td>0.024955</td>\n",
       "      <td>0.032086</td>\n",
       "      <td>0.000000</td>\n",
       "      <td>0.000000</td>\n",
       "      <td>0.000000</td>\n",
       "      <td>0.000000</td>\n",
       "      <td>0.0</td>\n",
       "    </tr>\n",
       "    <tr>\n",
       "      <th>Université de Paris</th>\n",
       "      <td>0.004132</td>\n",
       "      <td>0.086777</td>\n",
       "      <td>0.000000</td>\n",
       "      <td>0.008264</td>\n",
       "      <td>0.006198</td>\n",
       "      <td>0.008264</td>\n",
       "      <td>0.008264</td>\n",
       "      <td>0.008264</td>\n",
       "      <td>0.008264</td>\n",
       "      <td>0.007231</td>\n",
       "      <td>...</td>\n",
       "      <td>0.000000</td>\n",
       "      <td>0.000000</td>\n",
       "      <td>0.069215</td>\n",
       "      <td>0.021694</td>\n",
       "      <td>0.000000</td>\n",
       "      <td>0.000000</td>\n",
       "      <td>0.000000</td>\n",
       "      <td>0.000000</td>\n",
       "      <td>0.000000</td>\n",
       "      <td>0.0</td>\n",
       "    </tr>\n",
       "    <tr>\n",
       "      <th>Versailles Saint-Quentin-en-Yvelines</th>\n",
       "      <td>0.001045</td>\n",
       "      <td>0.089864</td>\n",
       "      <td>0.002090</td>\n",
       "      <td>0.000000</td>\n",
       "      <td>0.000000</td>\n",
       "      <td>0.004180</td>\n",
       "      <td>0.020899</td>\n",
       "      <td>0.007315</td>\n",
       "      <td>0.016719</td>\n",
       "      <td>0.019854</td>\n",
       "      <td>...</td>\n",
       "      <td>0.000000</td>\n",
       "      <td>0.000000</td>\n",
       "      <td>0.032393</td>\n",
       "      <td>0.028213</td>\n",
       "      <td>0.030303</td>\n",
       "      <td>0.000000</td>\n",
       "      <td>0.000000</td>\n",
       "      <td>0.000000</td>\n",
       "      <td>0.000000</td>\n",
       "      <td>0.0</td>\n",
       "    </tr>\n",
       "    <tr>\n",
       "      <th>Évry-Val d'Essonne</th>\n",
       "      <td>0.008373</td>\n",
       "      <td>0.082536</td>\n",
       "      <td>0.005981</td>\n",
       "      <td>0.001196</td>\n",
       "      <td>0.000000</td>\n",
       "      <td>0.003589</td>\n",
       "      <td>0.020335</td>\n",
       "      <td>0.001196</td>\n",
       "      <td>0.015550</td>\n",
       "      <td>0.015550</td>\n",
       "      <td>...</td>\n",
       "      <td>0.000000</td>\n",
       "      <td>0.000000</td>\n",
       "      <td>0.019139</td>\n",
       "      <td>0.037081</td>\n",
       "      <td>0.034689</td>\n",
       "      <td>0.000000</td>\n",
       "      <td>0.000000</td>\n",
       "      <td>0.000000</td>\n",
       "      <td>0.000000</td>\n",
       "      <td>0.0</td>\n",
       "    </tr>\n",
       "  </tbody>\n",
       "</table>\n",
       "<p>88 rows × 103 columns</p>\n",
       "</div>"
      ],
      "text/plain": [
       "                                          diplome_MASTER ENS  \\\n",
       "etablissement                                                  \n",
       "Aix-Marseille                                       0.006301   \n",
       "Amiens - Picardie Jules-Verne                       0.012701   \n",
       "Angers                                              0.004785   \n",
       "Antilles                                            0.068182   \n",
       "Artois                                              0.009404   \n",
       "...                                                      ...   \n",
       "Université Polytechnique Hauts-de-France            0.000000   \n",
       "Université Sorbonne Paris Nord                      0.000000   \n",
       "Université de Paris                                 0.004132   \n",
       "Versailles Saint-Quentin-en-Yvelines                0.001045   \n",
       "Évry-Val d'Essonne                                  0.008373   \n",
       "\n",
       "                                          diplome_MASTER LMD  \\\n",
       "etablissement                                                  \n",
       "Aix-Marseille                                       0.084608   \n",
       "Amiens - Picardie Jules-Verne                       0.078209   \n",
       "Angers                                              0.086124   \n",
       "Antilles                                            0.022727   \n",
       "Artois                                              0.081505   \n",
       "...                                                      ...   \n",
       "Université Polytechnique Hauts-de-France            0.090909   \n",
       "Université Sorbonne Paris Nord                      0.090909   \n",
       "Université de Paris                                 0.086777   \n",
       "Versailles Saint-Quentin-en-Yvelines                0.089864   \n",
       "Évry-Val d'Essonne                                  0.082536   \n",
       "\n",
       "                                          discipline_Autres formations juridiques, économiques et de gestion  \\\n",
       "etablissement                                                                                                  \n",
       "Aix-Marseille                                                                      0.000600                    \n",
       "Amiens - Picardie Jules-Verne                                                      0.000000                    \n",
       "Angers                                                                             0.002392                    \n",
       "Antilles                                                                           0.000000                    \n",
       "Artois                                                                             0.006270                    \n",
       "...                                                                                     ...                    \n",
       "Université Polytechnique Hauts-de-France                                           0.000000                    \n",
       "Université Sorbonne Paris Nord                                                     0.000000                    \n",
       "Université de Paris                                                                0.000000                    \n",
       "Versailles Saint-Quentin-en-Yvelines                                               0.002090                    \n",
       "Évry-Val d'Essonne                                                                 0.005981                    \n",
       "\n",
       "                                          discipline_Autres sciences humaines et sociales  \\\n",
       "etablissement                                                                               \n",
       "Aix-Marseille                                                                    0.006001   \n",
       "Amiens - Picardie Jules-Verne                                                    0.000668   \n",
       "Angers                                                                           0.005383   \n",
       "Antilles                                                                         0.000000   \n",
       "Artois                                                                           0.000000   \n",
       "...                                                                                   ...   \n",
       "Université Polytechnique Hauts-de-France                                         0.000000   \n",
       "Université Sorbonne Paris Nord                                                   0.001783   \n",
       "Université de Paris                                                              0.008264   \n",
       "Versailles Saint-Quentin-en-Yvelines                                             0.000000   \n",
       "Évry-Val d'Essonne                                                               0.001196   \n",
       "\n",
       "                                          discipline_Autres sciences, technologies et santé  \\\n",
       "etablissement                                                                                 \n",
       "Aix-Marseille                                                                      0.006001   \n",
       "Amiens - Picardie Jules-Verne                                                      0.004011   \n",
       "Angers                                                                             0.006579   \n",
       "Antilles                                                                           0.000000   \n",
       "Artois                                                                             0.000000   \n",
       "...                                                                                     ...   \n",
       "Université Polytechnique Hauts-de-France                                           0.012285   \n",
       "Université Sorbonne Paris Nord                                                     0.000000   \n",
       "Université de Paris                                                                0.006198   \n",
       "Versailles Saint-Quentin-en-Yvelines                                               0.000000   \n",
       "Évry-Val d'Essonne                                                                 0.000000   \n",
       "\n",
       "                                          discipline_Droit  \\\n",
       "etablissement                                                \n",
       "Aix-Marseille                                     0.006001   \n",
       "Amiens - Picardie Jules-Verne                     0.001337   \n",
       "Angers                                            0.000000   \n",
       "Antilles                                          0.000000   \n",
       "Artois                                            0.000000   \n",
       "...                                                    ...   \n",
       "Université Polytechnique Hauts-de-France          0.004914   \n",
       "Université Sorbonne Paris Nord                    0.000000   \n",
       "Université de Paris                               0.008264   \n",
       "Versailles Saint-Quentin-en-Yvelines              0.004180   \n",
       "Évry-Val d'Essonne                                0.003589   \n",
       "\n",
       "                                          discipline_Ensemble formations juridiques, économiques et de gestion  \\\n",
       "etablissement                                                                                                    \n",
       "Aix-Marseille                                                                      0.006001                      \n",
       "Amiens - Picardie Jules-Verne                                                      0.012701                      \n",
       "Angers                                                                             0.011962                      \n",
       "Antilles                                                                           0.022727                      \n",
       "Artois                                                                             0.020899                      \n",
       "...                                                                                     ...                      \n",
       "Université Polytechnique Hauts-de-France                                           0.019656                      \n",
       "Université Sorbonne Paris Nord                                                     0.030303                      \n",
       "Université de Paris                                                                0.008264                      \n",
       "Versailles Saint-Quentin-en-Yvelines                                               0.020899                      \n",
       "Évry-Val d'Essonne                                                                 0.020335                      \n",
       "\n",
       "                                          discipline_Ensemble sciences humaines et sociales  \\\n",
       "etablissement                                                                                 \n",
       "Aix-Marseille                                                                      0.006001   \n",
       "Amiens - Picardie Jules-Verne                                                      0.012701   \n",
       "Angers                                                                             0.011962   \n",
       "Antilles                                                                           0.000000   \n",
       "Artois                                                                             0.003135   \n",
       "...                                                                                     ...   \n",
       "Université Polytechnique Hauts-de-France                                           0.000000   \n",
       "Université Sorbonne Paris Nord                                                     0.028520   \n",
       "Université de Paris                                                                0.008264   \n",
       "Versailles Saint-Quentin-en-Yvelines                                               0.007315   \n",
       "Évry-Val d'Essonne                                                                 0.001196   \n",
       "\n",
       "                                          discipline_Ensemble sciences, technologies et santé  \\\n",
       "etablissement                                                                                   \n",
       "Aix-Marseille                                                                      0.006001     \n",
       "Amiens - Picardie Jules-Verne                                                      0.012701     \n",
       "Angers                                                                             0.011962     \n",
       "Antilles                                                                           0.000000     \n",
       "Artois                                                                             0.019854     \n",
       "...                                                                                     ...     \n",
       "Université Polytechnique Hauts-de-France                                           0.019656     \n",
       "Université Sorbonne Paris Nord                                                     0.000000     \n",
       "Université de Paris                                                                0.008264     \n",
       "Versailles Saint-Quentin-en-Yvelines                                               0.016719     \n",
       "Évry-Val d'Essonne                                                                 0.015550     \n",
       "\n",
       "                                          discipline_Gestion  ...  \\\n",
       "etablissement                                                 ...   \n",
       "Aix-Marseille                                       0.006001  ...   \n",
       "Amiens - Picardie Jules-Verne                       0.005348  ...   \n",
       "Angers                                              0.011962  ...   \n",
       "Antilles                                            0.000000  ...   \n",
       "Artois                                              0.008359  ...   \n",
       "...                                                      ...  ...   \n",
       "Université Polytechnique Hauts-de-France            0.019656  ...   \n",
       "Université Sorbonne Paris Nord                      0.010695  ...   \n",
       "Université de Paris                                 0.007231  ...   \n",
       "Versailles Saint-Quentin-en-Yvelines                0.019854  ...   \n",
       "Évry-Val d'Essonne                                  0.015550  ...   \n",
       "\n",
       "                                          taux_de_chomage_regional_categorie_C1  \\\n",
       "etablissement                                                                     \n",
       "Aix-Marseille                                                          0.000000   \n",
       "Amiens - Picardie Jules-Verne                                          0.000000   \n",
       "Angers                                                                 0.026914   \n",
       "Antilles                                                               0.000000   \n",
       "Artois                                                                 0.000000   \n",
       "...                                                                         ...   \n",
       "Université Polytechnique Hauts-de-France                               0.000000   \n",
       "Université Sorbonne Paris Nord                                         0.000000   \n",
       "Université de Paris                                                    0.000000   \n",
       "Versailles Saint-Quentin-en-Yvelines                                   0.000000   \n",
       "Évry-Val d'Essonne                                                     0.000000   \n",
       "\n",
       "                                          taux_de_chomage_regional_categorie_C10  \\\n",
       "etablissement                                                                      \n",
       "Aix-Marseille                                                           0.000000   \n",
       "Amiens - Picardie Jules-Verne                                           0.000000   \n",
       "Angers                                                                  0.000000   \n",
       "Antilles                                                                0.056818   \n",
       "Artois                                                                  0.000000   \n",
       "...                                                                          ...   \n",
       "Université Polytechnique Hauts-de-France                                0.000000   \n",
       "Université Sorbonne Paris Nord                                          0.000000   \n",
       "Université de Paris                                                     0.000000   \n",
       "Versailles Saint-Quentin-en-Yvelines                                    0.000000   \n",
       "Évry-Val d'Essonne                                                      0.000000   \n",
       "\n",
       "                                          taux_de_chomage_regional_categorie_C2  \\\n",
       "etablissement                                                                     \n",
       "Aix-Marseille                                                          0.000000   \n",
       "Amiens - Picardie Jules-Verne                                          0.000000   \n",
       "Angers                                                                 0.025718   \n",
       "Antilles                                                               0.000000   \n",
       "Artois                                                                 0.000000   \n",
       "...                                                                         ...   \n",
       "Université Polytechnique Hauts-de-France                               0.000000   \n",
       "Université Sorbonne Paris Nord                                         0.033868   \n",
       "Université de Paris                                                    0.069215   \n",
       "Versailles Saint-Quentin-en-Yvelines                                   0.032393   \n",
       "Évry-Val d'Essonne                                                     0.019139   \n",
       "\n",
       "                                          taux_de_chomage_regional_categorie_C3  \\\n",
       "etablissement                                                                     \n",
       "Aix-Marseille                                                          0.018002   \n",
       "Amiens - Picardie Jules-Verne                                          0.000000   \n",
       "Angers                                                                 0.008373   \n",
       "Antilles                                                               0.000000   \n",
       "Artois                                                                 0.000000   \n",
       "...                                                                         ...   \n",
       "Université Polytechnique Hauts-de-France                               0.000000   \n",
       "Université Sorbonne Paris Nord                                         0.024955   \n",
       "Université de Paris                                                    0.021694   \n",
       "Versailles Saint-Quentin-en-Yvelines                                   0.028213   \n",
       "Évry-Val d'Essonne                                                     0.037081   \n",
       "\n",
       "                                          taux_de_chomage_regional_categorie_C4  \\\n",
       "etablissement                                                                     \n",
       "Aix-Marseille                                                          0.018602   \n",
       "Amiens - Picardie Jules-Verne                                          0.018048   \n",
       "Angers                                                                 0.029904   \n",
       "Antilles                                                               0.000000   \n",
       "Artois                                                                 0.015674   \n",
       "...                                                                         ...   \n",
       "Université Polytechnique Hauts-de-France                               0.000000   \n",
       "Université Sorbonne Paris Nord                                         0.032086   \n",
       "Université de Paris                                                    0.000000   \n",
       "Versailles Saint-Quentin-en-Yvelines                                   0.030303   \n",
       "Évry-Val d'Essonne                                                     0.034689   \n",
       "\n",
       "                                          taux_de_chomage_regional_categorie_C5  \\\n",
       "etablissement                                                                     \n",
       "Aix-Marseille                                                          0.018302   \n",
       "Amiens - Picardie Jules-Verne                                          0.023396   \n",
       "Angers                                                                 0.000000   \n",
       "Antilles                                                               0.000000   \n",
       "Artois                                                                 0.020899   \n",
       "...                                                                         ...   \n",
       "Université Polytechnique Hauts-de-France                               0.025799   \n",
       "Université Sorbonne Paris Nord                                         0.000000   \n",
       "Université de Paris                                                    0.000000   \n",
       "Versailles Saint-Quentin-en-Yvelines                                   0.000000   \n",
       "Évry-Val d'Essonne                                                     0.000000   \n",
       "\n",
       "                                          taux_de_chomage_regional_categorie_C6  \\\n",
       "etablissement                                                                     \n",
       "Aix-Marseille                                                          0.036004   \n",
       "Amiens - Picardie Jules-Verne                                          0.038770   \n",
       "Angers                                                                 0.000000   \n",
       "Antilles                                                               0.000000   \n",
       "Artois                                                                 0.027168   \n",
       "...                                                                         ...   \n",
       "Université Polytechnique Hauts-de-France                               0.034398   \n",
       "Université Sorbonne Paris Nord                                         0.000000   \n",
       "Université de Paris                                                    0.000000   \n",
       "Versailles Saint-Quentin-en-Yvelines                                   0.000000   \n",
       "Évry-Val d'Essonne                                                     0.000000   \n",
       "\n",
       "                                          taux_de_chomage_regional_categorie_C7  \\\n",
       "etablissement                                                                     \n",
       "Aix-Marseille                                                          0.000000   \n",
       "Amiens - Picardie Jules-Verne                                          0.010695   \n",
       "Angers                                                                 0.000000   \n",
       "Antilles                                                               0.000000   \n",
       "Artois                                                                 0.024033   \n",
       "...                                                                         ...   \n",
       "Université Polytechnique Hauts-de-France                               0.024570   \n",
       "Université Sorbonne Paris Nord                                         0.000000   \n",
       "Université de Paris                                                    0.000000   \n",
       "Versailles Saint-Quentin-en-Yvelines                                   0.000000   \n",
       "Évry-Val d'Essonne                                                     0.000000   \n",
       "\n",
       "                                          taux_de_chomage_regional_categorie_C8  \\\n",
       "etablissement                                                                     \n",
       "Aix-Marseille                                                          0.000000   \n",
       "Amiens - Picardie Jules-Verne                                          0.000000   \n",
       "Angers                                                                 0.000000   \n",
       "Antilles                                                               0.034091   \n",
       "Artois                                                                 0.003135   \n",
       "...                                                                         ...   \n",
       "Université Polytechnique Hauts-de-France                               0.006143   \n",
       "Université Sorbonne Paris Nord                                         0.000000   \n",
       "Université de Paris                                                    0.000000   \n",
       "Versailles Saint-Quentin-en-Yvelines                                   0.000000   \n",
       "Évry-Val d'Essonne                                                     0.000000   \n",
       "\n",
       "                                          taux_de_chomage_regional_categorie_C9  \n",
       "etablissement                                                                    \n",
       "Aix-Marseille                                                               0.0  \n",
       "Amiens - Picardie Jules-Verne                                               0.0  \n",
       "Angers                                                                      0.0  \n",
       "Antilles                                                                    0.0  \n",
       "Artois                                                                      0.0  \n",
       "...                                                                         ...  \n",
       "Université Polytechnique Hauts-de-France                                    0.0  \n",
       "Université Sorbonne Paris Nord                                              0.0  \n",
       "Université de Paris                                                         0.0  \n",
       "Versailles Saint-Quentin-en-Yvelines                                        0.0  \n",
       "Évry-Val d'Essonne                                                          0.0  \n",
       "\n",
       "[88 rows x 103 columns]"
      ]
     },
     "metadata": {},
     "output_type": "display_data"
    },
    {
     "name": "stdout",
     "output_type": "stream",
     "text": [
      "\n",
      "🟨 Profil colonne :\n"
     ]
    },
    {
     "data": {
      "text/html": [
       "<div>\n",
       "<style scoped>\n",
       "    .dataframe tbody tr th:only-of-type {\n",
       "        vertical-align: middle;\n",
       "    }\n",
       "\n",
       "    .dataframe tbody tr th {\n",
       "        vertical-align: top;\n",
       "    }\n",
       "\n",
       "    .dataframe thead th {\n",
       "        text-align: right;\n",
       "    }\n",
       "</style>\n",
       "<table border=\"1\" class=\"dataframe\">\n",
       "  <thead>\n",
       "    <tr style=\"text-align: right;\">\n",
       "      <th></th>\n",
       "      <th>diplome_MASTER ENS</th>\n",
       "      <th>diplome_MASTER LMD</th>\n",
       "      <th>discipline_Autres formations juridiques, économiques et de gestion</th>\n",
       "      <th>discipline_Autres sciences humaines et sociales</th>\n",
       "      <th>discipline_Autres sciences, technologies et santé</th>\n",
       "      <th>discipline_Droit</th>\n",
       "      <th>discipline_Ensemble formations juridiques, économiques et de gestion</th>\n",
       "      <th>discipline_Ensemble sciences humaines et sociales</th>\n",
       "      <th>discipline_Ensemble sciences, technologies et santé</th>\n",
       "      <th>discipline_Gestion</th>\n",
       "      <th>...</th>\n",
       "      <th>taux_de_chomage_regional_categorie_C1</th>\n",
       "      <th>taux_de_chomage_regional_categorie_C10</th>\n",
       "      <th>taux_de_chomage_regional_categorie_C2</th>\n",
       "      <th>taux_de_chomage_regional_categorie_C3</th>\n",
       "      <th>taux_de_chomage_regional_categorie_C4</th>\n",
       "      <th>taux_de_chomage_regional_categorie_C5</th>\n",
       "      <th>taux_de_chomage_regional_categorie_C6</th>\n",
       "      <th>taux_de_chomage_regional_categorie_C7</th>\n",
       "      <th>taux_de_chomage_regional_categorie_C8</th>\n",
       "      <th>taux_de_chomage_regional_categorie_C9</th>\n",
       "    </tr>\n",
       "    <tr>\n",
       "      <th>etablissement</th>\n",
       "      <th></th>\n",
       "      <th></th>\n",
       "      <th></th>\n",
       "      <th></th>\n",
       "      <th></th>\n",
       "      <th></th>\n",
       "      <th></th>\n",
       "      <th></th>\n",
       "      <th></th>\n",
       "      <th></th>\n",
       "      <th></th>\n",
       "      <th></th>\n",
       "      <th></th>\n",
       "      <th></th>\n",
       "      <th></th>\n",
       "      <th></th>\n",
       "      <th></th>\n",
       "      <th></th>\n",
       "      <th></th>\n",
       "      <th></th>\n",
       "      <th></th>\n",
       "    </tr>\n",
       "  </thead>\n",
       "  <tbody>\n",
       "    <tr>\n",
       "      <th>Aix-Marseille</th>\n",
       "      <td>0.028728</td>\n",
       "      <td>0.036897</td>\n",
       "      <td>0.010152</td>\n",
       "      <td>0.057637</td>\n",
       "      <td>0.077821</td>\n",
       "      <td>0.038388</td>\n",
       "      <td>0.018692</td>\n",
       "      <td>0.024907</td>\n",
       "      <td>0.021254</td>\n",
       "      <td>0.022989</td>\n",
       "      <td>...</td>\n",
       "      <td>0.000000</td>\n",
       "      <td>0.000000</td>\n",
       "      <td>0.000000</td>\n",
       "      <td>0.044248</td>\n",
       "      <td>0.029937</td>\n",
       "      <td>0.054270</td>\n",
       "      <td>0.176471</td>\n",
       "      <td>0.000000</td>\n",
       "      <td>0.000000</td>\n",
       "      <td>0.0</td>\n",
       "    </tr>\n",
       "    <tr>\n",
       "      <th>Amiens - Picardie Jules-Verne</th>\n",
       "      <td>0.025992</td>\n",
       "      <td>0.015308</td>\n",
       "      <td>0.000000</td>\n",
       "      <td>0.002882</td>\n",
       "      <td>0.023346</td>\n",
       "      <td>0.003839</td>\n",
       "      <td>0.017757</td>\n",
       "      <td>0.023661</td>\n",
       "      <td>0.020191</td>\n",
       "      <td>0.009195</td>\n",
       "      <td>...</td>\n",
       "      <td>0.000000</td>\n",
       "      <td>0.000000</td>\n",
       "      <td>0.000000</td>\n",
       "      <td>0.000000</td>\n",
       "      <td>0.013037</td>\n",
       "      <td>0.031139</td>\n",
       "      <td>0.085294</td>\n",
       "      <td>0.087432</td>\n",
       "      <td>0.000000</td>\n",
       "      <td>0.0</td>\n",
       "    </tr>\n",
       "    <tr>\n",
       "      <th>Angers</th>\n",
       "      <td>0.010944</td>\n",
       "      <td>0.018841</td>\n",
       "      <td>0.020305</td>\n",
       "      <td>0.025937</td>\n",
       "      <td>0.042802</td>\n",
       "      <td>0.000000</td>\n",
       "      <td>0.018692</td>\n",
       "      <td>0.024907</td>\n",
       "      <td>0.021254</td>\n",
       "      <td>0.022989</td>\n",
       "      <td>...</td>\n",
       "      <td>0.047923</td>\n",
       "      <td>0.000000</td>\n",
       "      <td>0.022739</td>\n",
       "      <td>0.010324</td>\n",
       "      <td>0.024143</td>\n",
       "      <td>0.000000</td>\n",
       "      <td>0.000000</td>\n",
       "      <td>0.000000</td>\n",
       "      <td>0.000000</td>\n",
       "      <td>0.0</td>\n",
       "    </tr>\n",
       "    <tr>\n",
       "      <th>Antilles</th>\n",
       "      <td>0.008208</td>\n",
       "      <td>0.000262</td>\n",
       "      <td>0.000000</td>\n",
       "      <td>0.000000</td>\n",
       "      <td>0.000000</td>\n",
       "      <td>0.000000</td>\n",
       "      <td>0.001869</td>\n",
       "      <td>0.000000</td>\n",
       "      <td>0.000000</td>\n",
       "      <td>0.000000</td>\n",
       "      <td>...</td>\n",
       "      <td>0.000000</td>\n",
       "      <td>0.333333</td>\n",
       "      <td>0.000000</td>\n",
       "      <td>0.000000</td>\n",
       "      <td>0.000000</td>\n",
       "      <td>0.000000</td>\n",
       "      <td>0.000000</td>\n",
       "      <td>0.000000</td>\n",
       "      <td>0.029703</td>\n",
       "      <td>0.0</td>\n",
       "    </tr>\n",
       "    <tr>\n",
       "      <th>Artois</th>\n",
       "      <td>0.012312</td>\n",
       "      <td>0.010205</td>\n",
       "      <td>0.030457</td>\n",
       "      <td>0.000000</td>\n",
       "      <td>0.000000</td>\n",
       "      <td>0.000000</td>\n",
       "      <td>0.018692</td>\n",
       "      <td>0.003736</td>\n",
       "      <td>0.020191</td>\n",
       "      <td>0.009195</td>\n",
       "      <td>...</td>\n",
       "      <td>0.000000</td>\n",
       "      <td>0.000000</td>\n",
       "      <td>0.000000</td>\n",
       "      <td>0.000000</td>\n",
       "      <td>0.007243</td>\n",
       "      <td>0.017794</td>\n",
       "      <td>0.038235</td>\n",
       "      <td>0.125683</td>\n",
       "      <td>0.029703</td>\n",
       "      <td>0.0</td>\n",
       "    </tr>\n",
       "    <tr>\n",
       "      <th>...</th>\n",
       "      <td>...</td>\n",
       "      <td>...</td>\n",
       "      <td>...</td>\n",
       "      <td>...</td>\n",
       "      <td>...</td>\n",
       "      <td>...</td>\n",
       "      <td>...</td>\n",
       "      <td>...</td>\n",
       "      <td>...</td>\n",
       "      <td>...</td>\n",
       "      <td>...</td>\n",
       "      <td>...</td>\n",
       "      <td>...</td>\n",
       "      <td>...</td>\n",
       "      <td>...</td>\n",
       "      <td>...</td>\n",
       "      <td>...</td>\n",
       "      <td>...</td>\n",
       "      <td>...</td>\n",
       "      <td>...</td>\n",
       "      <td>...</td>\n",
       "    </tr>\n",
       "    <tr>\n",
       "      <th>Université Polytechnique Hauts-de-France</th>\n",
       "      <td>0.000000</td>\n",
       "      <td>0.009682</td>\n",
       "      <td>0.000000</td>\n",
       "      <td>0.000000</td>\n",
       "      <td>0.038911</td>\n",
       "      <td>0.007678</td>\n",
       "      <td>0.014953</td>\n",
       "      <td>0.000000</td>\n",
       "      <td>0.017003</td>\n",
       "      <td>0.018391</td>\n",
       "      <td>...</td>\n",
       "      <td>0.000000</td>\n",
       "      <td>0.000000</td>\n",
       "      <td>0.000000</td>\n",
       "      <td>0.000000</td>\n",
       "      <td>0.000000</td>\n",
       "      <td>0.018683</td>\n",
       "      <td>0.041176</td>\n",
       "      <td>0.109290</td>\n",
       "      <td>0.049505</td>\n",
       "      <td>0.0</td>\n",
       "    </tr>\n",
       "    <tr>\n",
       "      <th>Université Sorbonne Paris Nord</th>\n",
       "      <td>0.000000</td>\n",
       "      <td>0.006673</td>\n",
       "      <td>0.000000</td>\n",
       "      <td>0.002882</td>\n",
       "      <td>0.000000</td>\n",
       "      <td>0.000000</td>\n",
       "      <td>0.015888</td>\n",
       "      <td>0.019925</td>\n",
       "      <td>0.000000</td>\n",
       "      <td>0.006897</td>\n",
       "      <td>...</td>\n",
       "      <td>0.000000</td>\n",
       "      <td>0.000000</td>\n",
       "      <td>0.010048</td>\n",
       "      <td>0.010324</td>\n",
       "      <td>0.008691</td>\n",
       "      <td>0.000000</td>\n",
       "      <td>0.000000</td>\n",
       "      <td>0.000000</td>\n",
       "      <td>0.000000</td>\n",
       "      <td>0.0</td>\n",
       "    </tr>\n",
       "    <tr>\n",
       "      <th>Université de Paris</th>\n",
       "      <td>0.005472</td>\n",
       "      <td>0.010990</td>\n",
       "      <td>0.000000</td>\n",
       "      <td>0.023055</td>\n",
       "      <td>0.023346</td>\n",
       "      <td>0.015355</td>\n",
       "      <td>0.007477</td>\n",
       "      <td>0.009963</td>\n",
       "      <td>0.008502</td>\n",
       "      <td>0.008046</td>\n",
       "      <td>...</td>\n",
       "      <td>0.000000</td>\n",
       "      <td>0.000000</td>\n",
       "      <td>0.035431</td>\n",
       "      <td>0.015487</td>\n",
       "      <td>0.000000</td>\n",
       "      <td>0.000000</td>\n",
       "      <td>0.000000</td>\n",
       "      <td>0.000000</td>\n",
       "      <td>0.000000</td>\n",
       "      <td>0.0</td>\n",
       "    </tr>\n",
       "    <tr>\n",
       "      <th>Versailles Saint-Quentin-en-Yvelines</th>\n",
       "      <td>0.001368</td>\n",
       "      <td>0.011252</td>\n",
       "      <td>0.010152</td>\n",
       "      <td>0.000000</td>\n",
       "      <td>0.000000</td>\n",
       "      <td>0.007678</td>\n",
       "      <td>0.018692</td>\n",
       "      <td>0.008717</td>\n",
       "      <td>0.017003</td>\n",
       "      <td>0.021839</td>\n",
       "      <td>...</td>\n",
       "      <td>0.000000</td>\n",
       "      <td>0.000000</td>\n",
       "      <td>0.016393</td>\n",
       "      <td>0.019912</td>\n",
       "      <td>0.014003</td>\n",
       "      <td>0.000000</td>\n",
       "      <td>0.000000</td>\n",
       "      <td>0.000000</td>\n",
       "      <td>0.000000</td>\n",
       "      <td>0.0</td>\n",
       "    </tr>\n",
       "    <tr>\n",
       "      <th>Évry-Val d'Essonne</th>\n",
       "      <td>0.009576</td>\n",
       "      <td>0.009028</td>\n",
       "      <td>0.025381</td>\n",
       "      <td>0.002882</td>\n",
       "      <td>0.000000</td>\n",
       "      <td>0.005758</td>\n",
       "      <td>0.015888</td>\n",
       "      <td>0.001245</td>\n",
       "      <td>0.013815</td>\n",
       "      <td>0.014943</td>\n",
       "      <td>...</td>\n",
       "      <td>0.000000</td>\n",
       "      <td>0.000000</td>\n",
       "      <td>0.008461</td>\n",
       "      <td>0.022861</td>\n",
       "      <td>0.014003</td>\n",
       "      <td>0.000000</td>\n",
       "      <td>0.000000</td>\n",
       "      <td>0.000000</td>\n",
       "      <td>0.000000</td>\n",
       "      <td>0.0</td>\n",
       "    </tr>\n",
       "  </tbody>\n",
       "</table>\n",
       "<p>88 rows × 103 columns</p>\n",
       "</div>"
      ],
      "text/plain": [
       "                                          diplome_MASTER ENS  \\\n",
       "etablissement                                                  \n",
       "Aix-Marseille                                       0.028728   \n",
       "Amiens - Picardie Jules-Verne                       0.025992   \n",
       "Angers                                              0.010944   \n",
       "Antilles                                            0.008208   \n",
       "Artois                                              0.012312   \n",
       "...                                                      ...   \n",
       "Université Polytechnique Hauts-de-France            0.000000   \n",
       "Université Sorbonne Paris Nord                      0.000000   \n",
       "Université de Paris                                 0.005472   \n",
       "Versailles Saint-Quentin-en-Yvelines                0.001368   \n",
       "Évry-Val d'Essonne                                  0.009576   \n",
       "\n",
       "                                          diplome_MASTER LMD  \\\n",
       "etablissement                                                  \n",
       "Aix-Marseille                                       0.036897   \n",
       "Amiens - Picardie Jules-Verne                       0.015308   \n",
       "Angers                                              0.018841   \n",
       "Antilles                                            0.000262   \n",
       "Artois                                              0.010205   \n",
       "...                                                      ...   \n",
       "Université Polytechnique Hauts-de-France            0.009682   \n",
       "Université Sorbonne Paris Nord                      0.006673   \n",
       "Université de Paris                                 0.010990   \n",
       "Versailles Saint-Quentin-en-Yvelines                0.011252   \n",
       "Évry-Val d'Essonne                                  0.009028   \n",
       "\n",
       "                                          discipline_Autres formations juridiques, économiques et de gestion  \\\n",
       "etablissement                                                                                                  \n",
       "Aix-Marseille                                                                      0.010152                    \n",
       "Amiens - Picardie Jules-Verne                                                      0.000000                    \n",
       "Angers                                                                             0.020305                    \n",
       "Antilles                                                                           0.000000                    \n",
       "Artois                                                                             0.030457                    \n",
       "...                                                                                     ...                    \n",
       "Université Polytechnique Hauts-de-France                                           0.000000                    \n",
       "Université Sorbonne Paris Nord                                                     0.000000                    \n",
       "Université de Paris                                                                0.000000                    \n",
       "Versailles Saint-Quentin-en-Yvelines                                               0.010152                    \n",
       "Évry-Val d'Essonne                                                                 0.025381                    \n",
       "\n",
       "                                          discipline_Autres sciences humaines et sociales  \\\n",
       "etablissement                                                                               \n",
       "Aix-Marseille                                                                    0.057637   \n",
       "Amiens - Picardie Jules-Verne                                                    0.002882   \n",
       "Angers                                                                           0.025937   \n",
       "Antilles                                                                         0.000000   \n",
       "Artois                                                                           0.000000   \n",
       "...                                                                                   ...   \n",
       "Université Polytechnique Hauts-de-France                                         0.000000   \n",
       "Université Sorbonne Paris Nord                                                   0.002882   \n",
       "Université de Paris                                                              0.023055   \n",
       "Versailles Saint-Quentin-en-Yvelines                                             0.000000   \n",
       "Évry-Val d'Essonne                                                               0.002882   \n",
       "\n",
       "                                          discipline_Autres sciences, technologies et santé  \\\n",
       "etablissement                                                                                 \n",
       "Aix-Marseille                                                                      0.077821   \n",
       "Amiens - Picardie Jules-Verne                                                      0.023346   \n",
       "Angers                                                                             0.042802   \n",
       "Antilles                                                                           0.000000   \n",
       "Artois                                                                             0.000000   \n",
       "...                                                                                     ...   \n",
       "Université Polytechnique Hauts-de-France                                           0.038911   \n",
       "Université Sorbonne Paris Nord                                                     0.000000   \n",
       "Université de Paris                                                                0.023346   \n",
       "Versailles Saint-Quentin-en-Yvelines                                               0.000000   \n",
       "Évry-Val d'Essonne                                                                 0.000000   \n",
       "\n",
       "                                          discipline_Droit  \\\n",
       "etablissement                                                \n",
       "Aix-Marseille                                     0.038388   \n",
       "Amiens - Picardie Jules-Verne                     0.003839   \n",
       "Angers                                            0.000000   \n",
       "Antilles                                          0.000000   \n",
       "Artois                                            0.000000   \n",
       "...                                                    ...   \n",
       "Université Polytechnique Hauts-de-France          0.007678   \n",
       "Université Sorbonne Paris Nord                    0.000000   \n",
       "Université de Paris                               0.015355   \n",
       "Versailles Saint-Quentin-en-Yvelines              0.007678   \n",
       "Évry-Val d'Essonne                                0.005758   \n",
       "\n",
       "                                          discipline_Ensemble formations juridiques, économiques et de gestion  \\\n",
       "etablissement                                                                                                    \n",
       "Aix-Marseille                                                                      0.018692                      \n",
       "Amiens - Picardie Jules-Verne                                                      0.017757                      \n",
       "Angers                                                                             0.018692                      \n",
       "Antilles                                                                           0.001869                      \n",
       "Artois                                                                             0.018692                      \n",
       "...                                                                                     ...                      \n",
       "Université Polytechnique Hauts-de-France                                           0.014953                      \n",
       "Université Sorbonne Paris Nord                                                     0.015888                      \n",
       "Université de Paris                                                                0.007477                      \n",
       "Versailles Saint-Quentin-en-Yvelines                                               0.018692                      \n",
       "Évry-Val d'Essonne                                                                 0.015888                      \n",
       "\n",
       "                                          discipline_Ensemble sciences humaines et sociales  \\\n",
       "etablissement                                                                                 \n",
       "Aix-Marseille                                                                      0.024907   \n",
       "Amiens - Picardie Jules-Verne                                                      0.023661   \n",
       "Angers                                                                             0.024907   \n",
       "Antilles                                                                           0.000000   \n",
       "Artois                                                                             0.003736   \n",
       "...                                                                                     ...   \n",
       "Université Polytechnique Hauts-de-France                                           0.000000   \n",
       "Université Sorbonne Paris Nord                                                     0.019925   \n",
       "Université de Paris                                                                0.009963   \n",
       "Versailles Saint-Quentin-en-Yvelines                                               0.008717   \n",
       "Évry-Val d'Essonne                                                                 0.001245   \n",
       "\n",
       "                                          discipline_Ensemble sciences, technologies et santé  \\\n",
       "etablissement                                                                                   \n",
       "Aix-Marseille                                                                      0.021254     \n",
       "Amiens - Picardie Jules-Verne                                                      0.020191     \n",
       "Angers                                                                             0.021254     \n",
       "Antilles                                                                           0.000000     \n",
       "Artois                                                                             0.020191     \n",
       "...                                                                                     ...     \n",
       "Université Polytechnique Hauts-de-France                                           0.017003     \n",
       "Université Sorbonne Paris Nord                                                     0.000000     \n",
       "Université de Paris                                                                0.008502     \n",
       "Versailles Saint-Quentin-en-Yvelines                                               0.017003     \n",
       "Évry-Val d'Essonne                                                                 0.013815     \n",
       "\n",
       "                                          discipline_Gestion  ...  \\\n",
       "etablissement                                                 ...   \n",
       "Aix-Marseille                                       0.022989  ...   \n",
       "Amiens - Picardie Jules-Verne                       0.009195  ...   \n",
       "Angers                                              0.022989  ...   \n",
       "Antilles                                            0.000000  ...   \n",
       "Artois                                              0.009195  ...   \n",
       "...                                                      ...  ...   \n",
       "Université Polytechnique Hauts-de-France            0.018391  ...   \n",
       "Université Sorbonne Paris Nord                      0.006897  ...   \n",
       "Université de Paris                                 0.008046  ...   \n",
       "Versailles Saint-Quentin-en-Yvelines                0.021839  ...   \n",
       "Évry-Val d'Essonne                                  0.014943  ...   \n",
       "\n",
       "                                          taux_de_chomage_regional_categorie_C1  \\\n",
       "etablissement                                                                     \n",
       "Aix-Marseille                                                          0.000000   \n",
       "Amiens - Picardie Jules-Verne                                          0.000000   \n",
       "Angers                                                                 0.047923   \n",
       "Antilles                                                               0.000000   \n",
       "Artois                                                                 0.000000   \n",
       "...                                                                         ...   \n",
       "Université Polytechnique Hauts-de-France                               0.000000   \n",
       "Université Sorbonne Paris Nord                                         0.000000   \n",
       "Université de Paris                                                    0.000000   \n",
       "Versailles Saint-Quentin-en-Yvelines                                   0.000000   \n",
       "Évry-Val d'Essonne                                                     0.000000   \n",
       "\n",
       "                                          taux_de_chomage_regional_categorie_C10  \\\n",
       "etablissement                                                                      \n",
       "Aix-Marseille                                                           0.000000   \n",
       "Amiens - Picardie Jules-Verne                                           0.000000   \n",
       "Angers                                                                  0.000000   \n",
       "Antilles                                                                0.333333   \n",
       "Artois                                                                  0.000000   \n",
       "...                                                                          ...   \n",
       "Université Polytechnique Hauts-de-France                                0.000000   \n",
       "Université Sorbonne Paris Nord                                          0.000000   \n",
       "Université de Paris                                                     0.000000   \n",
       "Versailles Saint-Quentin-en-Yvelines                                    0.000000   \n",
       "Évry-Val d'Essonne                                                      0.000000   \n",
       "\n",
       "                                          taux_de_chomage_regional_categorie_C2  \\\n",
       "etablissement                                                                     \n",
       "Aix-Marseille                                                          0.000000   \n",
       "Amiens - Picardie Jules-Verne                                          0.000000   \n",
       "Angers                                                                 0.022739   \n",
       "Antilles                                                               0.000000   \n",
       "Artois                                                                 0.000000   \n",
       "...                                                                         ...   \n",
       "Université Polytechnique Hauts-de-France                               0.000000   \n",
       "Université Sorbonne Paris Nord                                         0.010048   \n",
       "Université de Paris                                                    0.035431   \n",
       "Versailles Saint-Quentin-en-Yvelines                                   0.016393   \n",
       "Évry-Val d'Essonne                                                     0.008461   \n",
       "\n",
       "                                          taux_de_chomage_regional_categorie_C3  \\\n",
       "etablissement                                                                     \n",
       "Aix-Marseille                                                          0.044248   \n",
       "Amiens - Picardie Jules-Verne                                          0.000000   \n",
       "Angers                                                                 0.010324   \n",
       "Antilles                                                               0.000000   \n",
       "Artois                                                                 0.000000   \n",
       "...                                                                         ...   \n",
       "Université Polytechnique Hauts-de-France                               0.000000   \n",
       "Université Sorbonne Paris Nord                                         0.010324   \n",
       "Université de Paris                                                    0.015487   \n",
       "Versailles Saint-Quentin-en-Yvelines                                   0.019912   \n",
       "Évry-Val d'Essonne                                                     0.022861   \n",
       "\n",
       "                                          taux_de_chomage_regional_categorie_C4  \\\n",
       "etablissement                                                                     \n",
       "Aix-Marseille                                                          0.029937   \n",
       "Amiens - Picardie Jules-Verne                                          0.013037   \n",
       "Angers                                                                 0.024143   \n",
       "Antilles                                                               0.000000   \n",
       "Artois                                                                 0.007243   \n",
       "...                                                                         ...   \n",
       "Université Polytechnique Hauts-de-France                               0.000000   \n",
       "Université Sorbonne Paris Nord                                         0.008691   \n",
       "Université de Paris                                                    0.000000   \n",
       "Versailles Saint-Quentin-en-Yvelines                                   0.014003   \n",
       "Évry-Val d'Essonne                                                     0.014003   \n",
       "\n",
       "                                          taux_de_chomage_regional_categorie_C5  \\\n",
       "etablissement                                                                     \n",
       "Aix-Marseille                                                          0.054270   \n",
       "Amiens - Picardie Jules-Verne                                          0.031139   \n",
       "Angers                                                                 0.000000   \n",
       "Antilles                                                               0.000000   \n",
       "Artois                                                                 0.017794   \n",
       "...                                                                         ...   \n",
       "Université Polytechnique Hauts-de-France                               0.018683   \n",
       "Université Sorbonne Paris Nord                                         0.000000   \n",
       "Université de Paris                                                    0.000000   \n",
       "Versailles Saint-Quentin-en-Yvelines                                   0.000000   \n",
       "Évry-Val d'Essonne                                                     0.000000   \n",
       "\n",
       "                                          taux_de_chomage_regional_categorie_C6  \\\n",
       "etablissement                                                                     \n",
       "Aix-Marseille                                                          0.176471   \n",
       "Amiens - Picardie Jules-Verne                                          0.085294   \n",
       "Angers                                                                 0.000000   \n",
       "Antilles                                                               0.000000   \n",
       "Artois                                                                 0.038235   \n",
       "...                                                                         ...   \n",
       "Université Polytechnique Hauts-de-France                               0.041176   \n",
       "Université Sorbonne Paris Nord                                         0.000000   \n",
       "Université de Paris                                                    0.000000   \n",
       "Versailles Saint-Quentin-en-Yvelines                                   0.000000   \n",
       "Évry-Val d'Essonne                                                     0.000000   \n",
       "\n",
       "                                          taux_de_chomage_regional_categorie_C7  \\\n",
       "etablissement                                                                     \n",
       "Aix-Marseille                                                          0.000000   \n",
       "Amiens - Picardie Jules-Verne                                          0.087432   \n",
       "Angers                                                                 0.000000   \n",
       "Antilles                                                               0.000000   \n",
       "Artois                                                                 0.125683   \n",
       "...                                                                         ...   \n",
       "Université Polytechnique Hauts-de-France                               0.109290   \n",
       "Université Sorbonne Paris Nord                                         0.000000   \n",
       "Université de Paris                                                    0.000000   \n",
       "Versailles Saint-Quentin-en-Yvelines                                   0.000000   \n",
       "Évry-Val d'Essonne                                                     0.000000   \n",
       "\n",
       "                                          taux_de_chomage_regional_categorie_C8  \\\n",
       "etablissement                                                                     \n",
       "Aix-Marseille                                                          0.000000   \n",
       "Amiens - Picardie Jules-Verne                                          0.000000   \n",
       "Angers                                                                 0.000000   \n",
       "Antilles                                                               0.029703   \n",
       "Artois                                                                 0.029703   \n",
       "...                                                                         ...   \n",
       "Université Polytechnique Hauts-de-France                               0.049505   \n",
       "Université Sorbonne Paris Nord                                         0.000000   \n",
       "Université de Paris                                                    0.000000   \n",
       "Versailles Saint-Quentin-en-Yvelines                                   0.000000   \n",
       "Évry-Val d'Essonne                                                     0.000000   \n",
       "\n",
       "                                          taux_de_chomage_regional_categorie_C9  \n",
       "etablissement                                                                    \n",
       "Aix-Marseille                                                               0.0  \n",
       "Amiens - Picardie Jules-Verne                                               0.0  \n",
       "Angers                                                                      0.0  \n",
       "Antilles                                                                    0.0  \n",
       "Artois                                                                      0.0  \n",
       "...                                                                         ...  \n",
       "Université Polytechnique Hauts-de-France                                    0.0  \n",
       "Université Sorbonne Paris Nord                                              0.0  \n",
       "Université de Paris                                                         0.0  \n",
       "Versailles Saint-Quentin-en-Yvelines                                        0.0  \n",
       "Évry-Val d'Essonne                                                          0.0  \n",
       "\n",
       "[88 rows x 103 columns]"
      ]
     },
     "metadata": {},
     "output_type": "display_data"
    }
   ],
   "source": [
    "# Affichage\n",
    "print(\"🟦 Profil ligne :\")\n",
    "display(profil_ligne)\n",
    "\n",
    "print(\"\\n🟨 Profil colonne :\")\n",
    "display(profil_colonne)\n"
   ]
  },
  {
   "cell_type": "markdown",
   "id": "63fb1831",
   "metadata": {},
   "source": [
    "<div style=\"font-family: 'Arial', sans-serif; font-size: 14px; margin-top: 20px;\">\n",
    "  <h3 style=\"color: #75DFC1;\">🎓 1. Massification de l’enseignement supérieur</h3>\n",
    "  <p>\n",
    "    Le nombre élevé de diplômes MASTER LMD délivrés dans la majorité des universités (ex : Aix-Marseille, Angers) confirme la massification des études longues. \n",
    "    Cela s’aligne avec l’objectif de démocratisation de l’accès aux études supérieures, même si cette massification pose des questions sur l’adéquation entre le volume des diplômés et le marché de l’emploi.\n",
    "  </p>\n",
    "\n",
    "  <h3 style=\"color: #75DFC1;\">🧑‍🔬 2. Concentration disciplinaire dans certaines filières</h3>\n",
    "  <p>\n",
    "    Une lecture transversale montre que les formations en sciences, technologies et santé (STS) et sciences humaines et sociales (SHS) sont largement représentées, \n",
    "    souvent de manière déséquilibrée selon les universités.\n",
    "  </p>\n",
    "  <p>\n",
    "    Par exemple, certaines universités ont une forte concentration dans les SHS sans forte présence STS, ce qui peut poser des défis d’employabilité compte tenu des débouchés variables d’une discipline à l’autre.\n",
    "  </p>\n",
    "  <p>\n",
    "    Cela interroge sur l’accompagnement à l’orientation, mais aussi sur la stratégie de spécialisation régionale des établissements.\n",
    "  </p>\n",
    "\n",
    "  <h3 style=\"color: #75DFC1;\">💼 3. Insertion professionnelle inégale</h3>\n",
    "  <p>\n",
    "    Les colonnes relatives aux emplois à temps plein (Q4) montrent de fortes disparités. Certaines universités affichent de bons taux d’emploi alors que d'autres restent très en retrait.\n",
    "  </p>\n",
    "  <p>\n",
    "    Par exemple, Aix-Marseille (30) et Angers (35) contrastent avec Antilles (2). Cela reflète à la fois l’attractivité économique des régions et peut-être aussi les réseaux professionnels des universités.\n",
    "  </p>\n",
    "  <p>\n",
    "    Cela renvoie à la problématique de l’insertion professionnelle territorialisée : à diplôme équivalent, les perspectives d’emploi varient selon le bassin économique local.\n",
    "  </p>\n",
    "\n",
    "  <h3 style=\"color: #75DFC1;\">💰 4. Salaires des jeunes diplômés : des écarts révélateurs</h3>\n",
    "  <p>\n",
    "    Des universités comme Aix-Marseille montrent une dispersion importante entre les différentes catégories de salaire (de Q1 à Q4).\n",
    "  </p>\n",
    "  <p>\n",
    "    Cela montre que la valeur du diplôme est fortement dépendante du secteur, du type de diplôme, et du territoire. \n",
    "    On n’est pas sur une égalité de retour sur investissement entre les filières.\n",
    "  </p>\n",
    "  <p>\n",
    "    Cette disparité est à rapprocher des revendications étudiantes récurrentes sur la précarité et le financement des études.\n",
    "  </p>\n",
    "\n",
    "  <h3 style=\"color: #75DFC1;\">📉 5. Influence du chômage régional</h3>\n",
    "  <p>\n",
    "    Les catégories de taux de chômage régional associées aux diplômés permettent d’observer que certaines universités forment majoritairement dans des contextes socio-économiques moins favorables \n",
    "    (ex : forte présence dans Q3 ou Q4).\n",
    "  </p>\n",
    "  <p>\n",
    "    C’est le cas par exemple pour Aix-Marseille (60+62+181 répartis sur Q2 à Q4), ce qui montre que même de grands pôles universitaires sont confrontés à des contextes difficiles.\n",
    "  </p>\n",
    "  <p>\n",
    "    Cela invite à repenser le lien entre politique universitaire et politique territoriale : une formation de qualité ne suffit pas à elle seule à garantir l'emploi si le tissu économique local ne suit pas.\n",
    "  </p>\n",
    "\n",
    "  <h3 style=\"color: #75DFC1;\">🧭 6. Quelques éléments transversaux à retenir</h3>\n",
    "  <ul>\n",
    "    <li>La quantité de diplômés ne garantit pas leur qualité d’insertion.</li>\n",
    "    <li>Il y a une fracture géographique et disciplinaire dans les débouchés.</li>\n",
    "    <li>Les universités situées dans des régions économiquement dynamiques (ex : grandes métropoles) offrent de meilleures perspectives.</li>\n",
    "    <li>Un besoin se dessine : mieux articuler formations universitaires et débouchés économiques locaux.</li>\n",
    "  </ul>\n",
    "</div>\n"
   ]
  },
  {
   "cell_type": "code",
   "execution_count": 16,
   "id": "db27b3d3",
   "metadata": {},
   "outputs": [
    {
     "data": {
      "application/vnd.plotly.v1+json": {
       "config": {
        "plotlyServerURL": "https://plot.ly"
       },
       "data": [
        {
         "hovertemplate": "0=%{x}<br>1=%{y}<br>etablissement=%{text}<extra></extra>",
         "legendgroup": "",
         "marker": {
          "color": "#636efa",
          "size": 8,
          "symbol": "circle"
         },
         "mode": "markers+text",
         "name": "",
         "orientation": "v",
         "showlegend": false,
         "text": [
          "Aix-Marseille",
          "Amiens - Picardie Jules-Verne",
          "Angers",
          "Antilles",
          "Artois",
          "Avignon",
          "Besançon - Franche-Comté",
          "Bordeaux",
          "Bordeaux - Montaigne",
          "Bordeaux 1 - Sciences technologies",
          "Bordeaux 2 - Victor Segalen",
          "Bordeaux 4 - Montesquieu",
          "Brest - Bretagne occidentale",
          "Bretagne-Sud",
          "CY Cergy Paris",
          "Caen Normandie",
          "Cergy-Pontoise",
          "Clermont Auvergne",
          "Clermont-Ferrand 1 - Auvergne",
          "Clermont-Ferrand 2 - Blaise Pascal",
          "Corse Pasquale Paoli",
          "Côte d'Azur",
          "Dijon - Bourgogne",
          "Grenoble 1 - Joseph Fourier",
          "Grenoble 2 - Pierre Mendès France",
          "Grenoble 3 - Stendhal",
          "Grenoble Alpes",
          "Gustave Eiffel",
          "La Rochelle",
          "La Réunion",
          "Le Havre",
          "Le Mans",
          "Lille",
          "Lille 1 - Sciences technologies",
          "Lille 2 - Droit et santé",
          "Lille 3 - Charles-de-Gaulle",
          "Lille Nord de France",
          "Limoges",
          "Littoral - Côte d'Opale",
          "Lorraine",
          "Lyon 1 - Claude Bernard",
          "Lyon 2 - Lumière",
          "Lyon 3 - Jean Moulin",
          "Montpellier",
          "Montpellier 1",
          "Montpellier 2 - Sciences techniques du Languedoc",
          "Montpellier 3 - Paul-Valéry",
          "Mulhouse - Haute Alsace",
          "Nantes",
          "Nice - Sophia-Antipolis",
          "Orléans",
          "Paris 1 - Panthéon Sorbonne",
          "Paris 11 - Paris Sud",
          "Paris 2 - Panthéon Assas",
          "Paris 3 - Sorbonne Nouvelle",
          "Paris 4 - Sorbonne",
          "Paris 7 - Denis Diderot",
          "Paris 8 - Vincennes Saint-Denis",
          "Paris Nanterre",
          "Paris Pierre et Marie Curie",
          "Paris René Descartes",
          "Paris-Est Créteil",
          "Paris-Est Marne-la-Vallée",
          "Paris-Panthéon-Assas",
          "Paris-Saclay",
          "Pau - Pays de l'Adour",
          "Perpignan - Via Domitia",
          "Poitiers",
          "Polytechnique Hauts-de-France",
          "Reims - Champagne Ardenne",
          "Rennes 1",
          "Rennes 2",
          "Rouen",
          "Saint-Etienne - Jean Monnet",
          "Savoie Mont Blanc",
          "Sorbonne Université",
          "Strasbourg",
          "Toulon",
          "Toulouse - Jean Jaures",
          "Toulouse 1 - Capitole",
          "Toulouse 3 - Paul Sabatier",
          "Tours",
          "Toutes universités et établissements assimilés",
          "Université Polytechnique Hauts-de-France",
          "Université Sorbonne Paris Nord",
          "Université de Paris",
          "Versailles Saint-Quentin-en-Yvelines",
          "Évry-Val d'Essonne"
         ],
         "textposition": "top center",
         "type": "scatter",
         "x": [
          -0.5579917966997088,
          0.9889792595403339,
          0.9010822564710435,
          8.384185414105552,
          0.3951371308696948,
          3.382086100088854,
          0.641581111627175,
          -0.027251163478967652,
          -0.7801518306785987,
          10.662859792024797,
          0.8636230659298316,
          -3.3567040913611033,
          0.17006351093789837,
          -0.6685361563996062,
          0.35802008361973553,
          1.181776700048757,
          -0.11086381862837852,
          0.954607806954022,
          0.6523364196784547,
          -0.12960728802701005,
          -3.137371040704349,
          -0.699109659388448,
          -1.1428371882251376,
          0.6146526540496797,
          -0.15522520193578487,
          -0.5534235512858761,
          -1.0257955497675946,
          2.7990932866188825,
          -0.5986738399164078,
          1.4297479167706135,
          -0.43816339322841424,
          -3.2499418804112223,
          0.15077132689286785,
          -1.1490585677163072,
          -2.101804531534696,
          0.17885312869062148,
          -3.1832555610461952,
          -0.9857719282505896,
          1.952206353256841,
          -0.14463412908552026,
          0.0041910855579016,
          -1.306481550613816,
          0.39761881362855434,
          0.4309002339187597,
          -0.0716220354861444,
          -2.6326915159335367,
          -1.8803261069199249,
          0.13163702113070466,
          0.0844892194948625,
          0.31528405002989446,
          0.42870182193162637,
          -0.43142337795902,
          1.299205515293324,
          0.24409488118839004,
          -2.6766241939472963,
          0.5416679362809478,
          1.1300810389501161,
          0.6786799980885985,
          -0.03899718407229488,
          -0.7174436593960865,
          2.145425002271319,
          0.6530343793280619,
          -0.8684939911285798,
          -0.3878276692771873,
          -0.5824717859774671,
          1.5889101279303501,
          1.9377191554859363,
          -0.03936769467379252,
          -2.12126673909636,
          0.371263203780397,
          0.5864818468344474,
          -0.3744090416478076,
          1.133432881019353,
          0.16259039803374087,
          -0.4440137768144003,
          -0.44100631958288605,
          -0.08518849407047029,
          3.2191001159285255,
          -0.7736184559819331,
          -0.1781872044584064,
          0.313407939014309,
          -0.8778769817220204,
          -0.15014167589519567,
          0.18472099045094992,
          -0.3785766645230223,
          1.4635754258743865,
          -0.853377743610949,
          -0.25152689943306095
         ],
         "xaxis": "x",
         "y": [
          0.09875131182801697,
          1.1761210373000728,
          -0.8361946629372917,
          0.9919920446476016,
          -0.44365943331058705,
          0.20235413081904738,
          -0.5042773052303254,
          0.020345645361660277,
          -1.7998543867845804,
          -3.058969232017934,
          3.1232637420209204,
          8.316027581706866,
          -0.6708714352594282,
          -0.6547141287712259,
          0.16654893530953585,
          -0.3018122353005361,
          0.1380631501780333,
          1.8070771585914576,
          4.3904174435520815,
          -0.8718764431252308,
          4.40862626586766,
          -0.400199182598819,
          1.705050612125254,
          4.41042768442083,
          0.8481935703680467,
          4.545478545585444,
          -0.1336837842551924,
          3.5181255594550227,
          0.8171951008632178,
          2.5166159622855893,
          -0.9942509742442063,
          0.6625477575813964,
          -0.43192069083903756,
          -0.3156703722982177,
          -0.39655315075770253,
          -0.8802785010238898,
          3.488704567376749,
          -0.8862170677572124,
          0.5719920805669578,
          -0.43773436532968735,
          0.8474481500883839,
          0.8460935729700044,
          0.22581480546397903,
          -0.7287367640294512,
          -3.9766126467949774,
          -1.4255271757772492,
          -0.604313921443917,
          -2.355266520610138,
          -0.13562392205637092,
          0.4197634008679722,
          -0.419304379363364,
          -0.586973705942182,
          -1.2573881639469517,
          0.8961230476591172,
          0.6393545590488329,
          -3.6552403496175403,
          0.3181847851209474,
          -0.9206673224590373,
          -0.23587339151826778,
          -0.3750901063033074,
          0.3829746990932382,
          0.034442215785697144,
          -0.8431225410302633,
          1.9157016213373446,
          -0.20887748604062728,
          0.7050096067652454,
          1.7149266614784067,
          1.196140111392346,
          -0.4612353545517519,
          -0.010761697590387694,
          -0.7581746486280732,
          -1.7997980786636165,
          -0.07415594062431036,
          1.3256384467405196,
          -0.24413006802019974,
          0.37767537245733535,
          -0.11129958259111943,
          -1.3663816574455794,
          1.332858941335704,
          -0.8435166034073412,
          -1.483015407690762,
          -0.639802305248194,
          0.5439592407154088,
          -0.10592336561105592,
          1.1177739506921065,
          1.8202087321081764,
          -0.7083404784798375,
          0.4997130428229198
         ],
         "yaxis": "y"
        }
       ],
       "layout": {
        "height": 800,
        "hovermode": "closest",
        "legend": {
         "tracegroupgap": 0
        },
        "showlegend": false,
        "template": {
         "data": {
          "bar": [
           {
            "error_x": {
             "color": "#2a3f5f"
            },
            "error_y": {
             "color": "#2a3f5f"
            },
            "marker": {
             "line": {
              "color": "#E5ECF6",
              "width": 0.5
             },
             "pattern": {
              "fillmode": "overlay",
              "size": 10,
              "solidity": 0.2
             }
            },
            "type": "bar"
           }
          ],
          "barpolar": [
           {
            "marker": {
             "line": {
              "color": "#E5ECF6",
              "width": 0.5
             },
             "pattern": {
              "fillmode": "overlay",
              "size": 10,
              "solidity": 0.2
             }
            },
            "type": "barpolar"
           }
          ],
          "carpet": [
           {
            "aaxis": {
             "endlinecolor": "#2a3f5f",
             "gridcolor": "white",
             "linecolor": "white",
             "minorgridcolor": "white",
             "startlinecolor": "#2a3f5f"
            },
            "baxis": {
             "endlinecolor": "#2a3f5f",
             "gridcolor": "white",
             "linecolor": "white",
             "minorgridcolor": "white",
             "startlinecolor": "#2a3f5f"
            },
            "type": "carpet"
           }
          ],
          "choropleth": [
           {
            "colorbar": {
             "outlinewidth": 0,
             "ticks": ""
            },
            "type": "choropleth"
           }
          ],
          "contour": [
           {
            "colorbar": {
             "outlinewidth": 0,
             "ticks": ""
            },
            "colorscale": [
             [
              0,
              "#0d0887"
             ],
             [
              0.1111111111111111,
              "#46039f"
             ],
             [
              0.2222222222222222,
              "#7201a8"
             ],
             [
              0.3333333333333333,
              "#9c179e"
             ],
             [
              0.4444444444444444,
              "#bd3786"
             ],
             [
              0.5555555555555556,
              "#d8576b"
             ],
             [
              0.6666666666666666,
              "#ed7953"
             ],
             [
              0.7777777777777778,
              "#fb9f3a"
             ],
             [
              0.8888888888888888,
              "#fdca26"
             ],
             [
              1,
              "#f0f921"
             ]
            ],
            "type": "contour"
           }
          ],
          "contourcarpet": [
           {
            "colorbar": {
             "outlinewidth": 0,
             "ticks": ""
            },
            "type": "contourcarpet"
           }
          ],
          "heatmap": [
           {
            "colorbar": {
             "outlinewidth": 0,
             "ticks": ""
            },
            "colorscale": [
             [
              0,
              "#0d0887"
             ],
             [
              0.1111111111111111,
              "#46039f"
             ],
             [
              0.2222222222222222,
              "#7201a8"
             ],
             [
              0.3333333333333333,
              "#9c179e"
             ],
             [
              0.4444444444444444,
              "#bd3786"
             ],
             [
              0.5555555555555556,
              "#d8576b"
             ],
             [
              0.6666666666666666,
              "#ed7953"
             ],
             [
              0.7777777777777778,
              "#fb9f3a"
             ],
             [
              0.8888888888888888,
              "#fdca26"
             ],
             [
              1,
              "#f0f921"
             ]
            ],
            "type": "heatmap"
           }
          ],
          "heatmapgl": [
           {
            "colorbar": {
             "outlinewidth": 0,
             "ticks": ""
            },
            "colorscale": [
             [
              0,
              "#0d0887"
             ],
             [
              0.1111111111111111,
              "#46039f"
             ],
             [
              0.2222222222222222,
              "#7201a8"
             ],
             [
              0.3333333333333333,
              "#9c179e"
             ],
             [
              0.4444444444444444,
              "#bd3786"
             ],
             [
              0.5555555555555556,
              "#d8576b"
             ],
             [
              0.6666666666666666,
              "#ed7953"
             ],
             [
              0.7777777777777778,
              "#fb9f3a"
             ],
             [
              0.8888888888888888,
              "#fdca26"
             ],
             [
              1,
              "#f0f921"
             ]
            ],
            "type": "heatmapgl"
           }
          ],
          "histogram": [
           {
            "marker": {
             "pattern": {
              "fillmode": "overlay",
              "size": 10,
              "solidity": 0.2
             }
            },
            "type": "histogram"
           }
          ],
          "histogram2d": [
           {
            "colorbar": {
             "outlinewidth": 0,
             "ticks": ""
            },
            "colorscale": [
             [
              0,
              "#0d0887"
             ],
             [
              0.1111111111111111,
              "#46039f"
             ],
             [
              0.2222222222222222,
              "#7201a8"
             ],
             [
              0.3333333333333333,
              "#9c179e"
             ],
             [
              0.4444444444444444,
              "#bd3786"
             ],
             [
              0.5555555555555556,
              "#d8576b"
             ],
             [
              0.6666666666666666,
              "#ed7953"
             ],
             [
              0.7777777777777778,
              "#fb9f3a"
             ],
             [
              0.8888888888888888,
              "#fdca26"
             ],
             [
              1,
              "#f0f921"
             ]
            ],
            "type": "histogram2d"
           }
          ],
          "histogram2dcontour": [
           {
            "colorbar": {
             "outlinewidth": 0,
             "ticks": ""
            },
            "colorscale": [
             [
              0,
              "#0d0887"
             ],
             [
              0.1111111111111111,
              "#46039f"
             ],
             [
              0.2222222222222222,
              "#7201a8"
             ],
             [
              0.3333333333333333,
              "#9c179e"
             ],
             [
              0.4444444444444444,
              "#bd3786"
             ],
             [
              0.5555555555555556,
              "#d8576b"
             ],
             [
              0.6666666666666666,
              "#ed7953"
             ],
             [
              0.7777777777777778,
              "#fb9f3a"
             ],
             [
              0.8888888888888888,
              "#fdca26"
             ],
             [
              1,
              "#f0f921"
             ]
            ],
            "type": "histogram2dcontour"
           }
          ],
          "mesh3d": [
           {
            "colorbar": {
             "outlinewidth": 0,
             "ticks": ""
            },
            "type": "mesh3d"
           }
          ],
          "parcoords": [
           {
            "line": {
             "colorbar": {
              "outlinewidth": 0,
              "ticks": ""
             }
            },
            "type": "parcoords"
           }
          ],
          "pie": [
           {
            "automargin": true,
            "type": "pie"
           }
          ],
          "scatter": [
           {
            "fillpattern": {
             "fillmode": "overlay",
             "size": 10,
             "solidity": 0.2
            },
            "type": "scatter"
           }
          ],
          "scatter3d": [
           {
            "line": {
             "colorbar": {
              "outlinewidth": 0,
              "ticks": ""
             }
            },
            "marker": {
             "colorbar": {
              "outlinewidth": 0,
              "ticks": ""
             }
            },
            "type": "scatter3d"
           }
          ],
          "scattercarpet": [
           {
            "marker": {
             "colorbar": {
              "outlinewidth": 0,
              "ticks": ""
             }
            },
            "type": "scattercarpet"
           }
          ],
          "scattergeo": [
           {
            "marker": {
             "colorbar": {
              "outlinewidth": 0,
              "ticks": ""
             }
            },
            "type": "scattergeo"
           }
          ],
          "scattergl": [
           {
            "marker": {
             "colorbar": {
              "outlinewidth": 0,
              "ticks": ""
             }
            },
            "type": "scattergl"
           }
          ],
          "scattermapbox": [
           {
            "marker": {
             "colorbar": {
              "outlinewidth": 0,
              "ticks": ""
             }
            },
            "type": "scattermapbox"
           }
          ],
          "scatterpolar": [
           {
            "marker": {
             "colorbar": {
              "outlinewidth": 0,
              "ticks": ""
             }
            },
            "type": "scatterpolar"
           }
          ],
          "scatterpolargl": [
           {
            "marker": {
             "colorbar": {
              "outlinewidth": 0,
              "ticks": ""
             }
            },
            "type": "scatterpolargl"
           }
          ],
          "scatterternary": [
           {
            "marker": {
             "colorbar": {
              "outlinewidth": 0,
              "ticks": ""
             }
            },
            "type": "scatterternary"
           }
          ],
          "surface": [
           {
            "colorbar": {
             "outlinewidth": 0,
             "ticks": ""
            },
            "colorscale": [
             [
              0,
              "#0d0887"
             ],
             [
              0.1111111111111111,
              "#46039f"
             ],
             [
              0.2222222222222222,
              "#7201a8"
             ],
             [
              0.3333333333333333,
              "#9c179e"
             ],
             [
              0.4444444444444444,
              "#bd3786"
             ],
             [
              0.5555555555555556,
              "#d8576b"
             ],
             [
              0.6666666666666666,
              "#ed7953"
             ],
             [
              0.7777777777777778,
              "#fb9f3a"
             ],
             [
              0.8888888888888888,
              "#fdca26"
             ],
             [
              1,
              "#f0f921"
             ]
            ],
            "type": "surface"
           }
          ],
          "table": [
           {
            "cells": {
             "fill": {
              "color": "#EBF0F8"
             },
             "line": {
              "color": "white"
             }
            },
            "header": {
             "fill": {
              "color": "#C8D4E3"
             },
             "line": {
              "color": "white"
             }
            },
            "type": "table"
           }
          ]
         },
         "layout": {
          "annotationdefaults": {
           "arrowcolor": "#2a3f5f",
           "arrowhead": 0,
           "arrowwidth": 1
          },
          "autotypenumbers": "strict",
          "coloraxis": {
           "colorbar": {
            "outlinewidth": 0,
            "ticks": ""
           }
          },
          "colorscale": {
           "diverging": [
            [
             0,
             "#8e0152"
            ],
            [
             0.1,
             "#c51b7d"
            ],
            [
             0.2,
             "#de77ae"
            ],
            [
             0.3,
             "#f1b6da"
            ],
            [
             0.4,
             "#fde0ef"
            ],
            [
             0.5,
             "#f7f7f7"
            ],
            [
             0.6,
             "#e6f5d0"
            ],
            [
             0.7,
             "#b8e186"
            ],
            [
             0.8,
             "#7fbc41"
            ],
            [
             0.9,
             "#4d9221"
            ],
            [
             1,
             "#276419"
            ]
           ],
           "sequential": [
            [
             0,
             "#0d0887"
            ],
            [
             0.1111111111111111,
             "#46039f"
            ],
            [
             0.2222222222222222,
             "#7201a8"
            ],
            [
             0.3333333333333333,
             "#9c179e"
            ],
            [
             0.4444444444444444,
             "#bd3786"
            ],
            [
             0.5555555555555556,
             "#d8576b"
            ],
            [
             0.6666666666666666,
             "#ed7953"
            ],
            [
             0.7777777777777778,
             "#fb9f3a"
            ],
            [
             0.8888888888888888,
             "#fdca26"
            ],
            [
             1,
             "#f0f921"
            ]
           ],
           "sequentialminus": [
            [
             0,
             "#0d0887"
            ],
            [
             0.1111111111111111,
             "#46039f"
            ],
            [
             0.2222222222222222,
             "#7201a8"
            ],
            [
             0.3333333333333333,
             "#9c179e"
            ],
            [
             0.4444444444444444,
             "#bd3786"
            ],
            [
             0.5555555555555556,
             "#d8576b"
            ],
            [
             0.6666666666666666,
             "#ed7953"
            ],
            [
             0.7777777777777778,
             "#fb9f3a"
            ],
            [
             0.8888888888888888,
             "#fdca26"
            ],
            [
             1,
             "#f0f921"
            ]
           ]
          },
          "colorway": [
           "#636efa",
           "#EF553B",
           "#00cc96",
           "#ab63fa",
           "#FFA15A",
           "#19d3f3",
           "#FF6692",
           "#B6E880",
           "#FF97FF",
           "#FECB52"
          ],
          "font": {
           "color": "#2a3f5f"
          },
          "geo": {
           "bgcolor": "white",
           "lakecolor": "white",
           "landcolor": "#E5ECF6",
           "showlakes": true,
           "showland": true,
           "subunitcolor": "white"
          },
          "hoverlabel": {
           "align": "left"
          },
          "hovermode": "closest",
          "mapbox": {
           "style": "light"
          },
          "paper_bgcolor": "white",
          "plot_bgcolor": "#E5ECF6",
          "polar": {
           "angularaxis": {
            "gridcolor": "white",
            "linecolor": "white",
            "ticks": ""
           },
           "bgcolor": "#E5ECF6",
           "radialaxis": {
            "gridcolor": "white",
            "linecolor": "white",
            "ticks": ""
           }
          },
          "scene": {
           "xaxis": {
            "backgroundcolor": "#E5ECF6",
            "gridcolor": "white",
            "gridwidth": 2,
            "linecolor": "white",
            "showbackground": true,
            "ticks": "",
            "zerolinecolor": "white"
           },
           "yaxis": {
            "backgroundcolor": "#E5ECF6",
            "gridcolor": "white",
            "gridwidth": 2,
            "linecolor": "white",
            "showbackground": true,
            "ticks": "",
            "zerolinecolor": "white"
           },
           "zaxis": {
            "backgroundcolor": "#E5ECF6",
            "gridcolor": "white",
            "gridwidth": 2,
            "linecolor": "white",
            "showbackground": true,
            "ticks": "",
            "zerolinecolor": "white"
           }
          },
          "shapedefaults": {
           "line": {
            "color": "#2a3f5f"
           }
          },
          "ternary": {
           "aaxis": {
            "gridcolor": "white",
            "linecolor": "white",
            "ticks": ""
           },
           "baxis": {
            "gridcolor": "white",
            "linecolor": "white",
            "ticks": ""
           },
           "bgcolor": "#E5ECF6",
           "caxis": {
            "gridcolor": "white",
            "linecolor": "white",
            "ticks": ""
           }
          },
          "title": {
           "x": 0.05
          },
          "xaxis": {
           "automargin": true,
           "gridcolor": "white",
           "linecolor": "white",
           "ticks": "",
           "title": {
            "standoff": 15
           },
           "zerolinecolor": "white",
           "zerolinewidth": 2
          },
          "yaxis": {
           "automargin": true,
           "gridcolor": "white",
           "linecolor": "white",
           "ticks": "",
           "title": {
            "standoff": 15
           },
           "zerolinecolor": "white",
           "zerolinewidth": 2
          }
         }
        },
        "title": {
         "text": "AFC – Projection interactive des établissements"
        },
        "width": 1000,
        "xaxis": {
         "anchor": "y",
         "domain": [
          0,
          1
         ],
         "title": {
          "text": "0"
         }
        },
        "yaxis": {
         "anchor": "x",
         "domain": [
          0,
          1
         ],
         "title": {
          "text": "1"
         }
        }
       }
      }
     },
     "metadata": {},
     "output_type": "display_data"
    }
   ],
   "source": [
    "# Création de la table de contingence\n",
    "df_crosstab = pd.crosstab(data_categorise[\"etablissement\"], [data_categorise[\"diplome\"], data_categorise[\"discipline\"], data_categorise[\"taux_de_chomage_regional_categorie\"],\n",
    "                                                             data_categorise[\"situation\"], data_categorise[\"taux_de_reponse_categorie\"],\n",
    "                                                             data_categorise[\"poids_de_la_discipline_categorie\"], data_categorise[\"taux_dinsertion_categorie\"],\n",
    "                                                             data_categorise[\"emplois_cadre_ou_professions_intermediaires_categorie\"], data_categorise[\"emplois_stables_categorie\"],\n",
    "                                                             data_categorise[\"emplois_a_temps_plein_categorie\"], data_categorise[\"salaire_brut_annuel_estime_categorie\"]])\n",
    "df_crosstab   \n",
    "\n",
    "import plotly.express as px\n",
    "import pandas as pd\n",
    "import prince\n",
    "\n",
    "# Lancer l’AFC\n",
    "afc = prince.CA(n_components=2, n_iter=10, copy=True, check_input=True, engine='sklearn', random_state=42)\n",
    "afc = afc.fit(df_crosstab)\n",
    "\n",
    "# Coordonnées des individus (établissements)\n",
    "row_coords = afc.row_coordinates(df_crosstab)\n",
    "\n",
    "# Ajout des étiquettes à la table des coordonnées\n",
    "row_coords_plot = row_coords.copy()\n",
    "row_coords_plot[\"etablissement\"] = df_crosstab.index\n",
    "\n",
    "# Création du graphique interactif\n",
    "fig = px.scatter(\n",
    "    row_coords_plot,\n",
    "    x=0,\n",
    "    y=1,\n",
    "    text=\"etablissement\",\n",
    "    title=\"AFC – Projection interactive des établissements\",\n",
    "    labels={0: \"Dimension 1\", 1: \"Dimension 2\"},\n",
    "    width=1000,\n",
    "    height=800\n",
    ")\n",
    "\n",
    "# Mise à jour de l’apparence\n",
    "fig.update_traces(marker=dict(size=8), textposition='top center')\n",
    "fig.update_layout(showlegend=False, hovermode='closest')\n",
    "\n",
    "fig.show()"
   ]
  },
  {
   "cell_type": "code",
   "execution_count": null,
   "id": "e979a801",
   "metadata": {},
   "outputs": [],
   "source": []
  },
  {
   "cell_type": "code",
   "execution_count": 14,
   "id": "8c5e887c",
   "metadata": {},
   "outputs": [
    {
     "data": {
      "image/png": "[encoded data removed]",
      "text/plain": [
       "<Figure size 1000x700 with 1 Axes>"
      ]
     },
     "metadata": {},
     "output_type": "display_data"
    }
   ],
   "source": [
    "# Visualisation\n",
    "import matplotlib.pyplot as plt\n",
    "\n",
    "plt.figure(figsize=(10, 7))\n",
    "plt.scatter(row_coords[0], row_coords[1], alpha=0.7)\n",
    "\n",
    "for i, label in enumerate(df_crosstab.index):\n",
    "    plt.text(row_coords.iloc[i, 0], row_coords.iloc[i, 1], label, fontsize=8)\n",
    "\n",
    "plt.xlabel(\"Dimension 1\")\n",
    "plt.ylabel(\"Dimension 2\")\n",
    "plt.title(\"AFC – Projection des établissements\")\n",
    "plt.grid(True)\n",
    "plt.show()"
   ]
  },
  {
   "cell_type": "code",
   "execution_count": 20,
   "id": "9b984c12",
   "metadata": {},
   "outputs": [
    {
     "ename": "AttributeError",
     "evalue": "'CA' object has no attribute 'singular_values_'",
     "output_type": "error",
     "traceback": [
      "\u001b[1;31m---------------------------------------------------------------------------\u001b[0m",
      "\u001b[1;31mAttributeError\u001b[0m                            Traceback (most recent call last)",
      "Cell \u001b[1;32mIn[20], line 4\u001b[0m\n\u001b[0;32m      1\u001b[0m \u001b[38;5;28;01mimport\u001b[39;00m \u001b[38;5;21;01mnumpy\u001b[39;00m \u001b[38;5;28;01mas\u001b[39;00m \u001b[38;5;21;01mnp\u001b[39;00m\n\u001b[0;32m      3\u001b[0m \u001b[38;5;66;03m# Valeurs singulières (racines carrées des valeurs propres)\u001b[39;00m\n\u001b[1;32m----> 4\u001b[0m singular_values \u001b[38;5;241m=\u001b[39m afc\u001b[38;5;241m.\u001b[39msingular_values_\n\u001b[0;32m      6\u001b[0m \u001b[38;5;66;03m# Inertie par axe\u001b[39;00m\n\u001b[0;32m      7\u001b[0m eigenvalues \u001b[38;5;241m=\u001b[39m singular_values \u001b[38;5;241m*\u001b[39m\u001b[38;5;241m*\u001b[39m \u001b[38;5;241m2\u001b[39m\n",
      "\u001b[1;31mAttributeError\u001b[0m: 'CA' object has no attribute 'singular_values_'"
     ]
    }
   ],
   "source": [
    "import numpy as np\n",
    "\n",
    "# Valeurs singulières (racines carrées des valeurs propres)\n",
    "singular_values = afc.singular_values_\n",
    "\n",
    "# Inertie par axe\n",
    "eigenvalues = singular_values ** 2\n",
    "explained_inertia = eigenvalues / eigenvalues.sum()\n",
    "\n",
    "# DataFrame\n",
    "import pandas as pd\n",
    "df_inertie = pd.DataFrame({\n",
    "    \"Dimension\": [f\"Dim {i+1}\" for i in range(len(explained_inertia))],\n",
    "    \"Inertie (%)\": [round(val * 100, 2) for val in explained_inertia],\n",
    "    \"Inertie cumulée (%)\": [round(val * 100, 2) for val in explained_inertia.cumsum()]\n",
    "})\n",
    "display(df_inertie)\n"
   ]
  },
  {
   "cell_type": "code",
   "execution_count": 19,
   "id": "e79296b0",
   "metadata": {},
   "outputs": [
    {
     "name": "stdout",
     "output_type": "stream",
     "text": [
      "Valeurs propres (eigenvalues) : [0.99867642 0.99830074]\n",
      "\n",
      "Inertie totale : 1.99697716316567\n",
      "\n",
      "Pourcentage d'inertie expliquée par chaque dimension :\n",
      "Dimension 1: 50.01%\n",
      "Dimension 2: 49.99%\n"
     ]
    },
    {
     "data": {
      "application/vnd.plotly.v1+json": {
       "config": {
        "plotlyServerURL": "https://plot.ly"
       },
       "data": [
        {
         "hovertemplate": "Dimension=%{x}<br>Pourcentage=%{text}<extra></extra>",
         "legendgroup": "",
         "line": {
          "color": "#636efa",
          "dash": "solid"
         },
         "marker": {
          "symbol": "circle"
         },
         "mode": "lines+markers+text",
         "name": "",
         "orientation": "v",
         "showlegend": false,
         "text": [
          50.0094063708149,
          49.99059362918509
         ],
         "textposition": "top center",
         "texttemplate": "%{text:.1f}%",
         "type": "scatter",
         "x": [
          "Dim 1",
          "Dim 2"
         ],
         "xaxis": "x",
         "y": [
          50.0094063708149,
          49.99059362918509
         ],
         "yaxis": "y"
        }
       ],
       "layout": {
        "legend": {
         "tracegroupgap": 0
        },
        "template": {
         "data": {
          "bar": [
           {
            "error_x": {
             "color": "#2a3f5f"
            },
            "error_y": {
             "color": "#2a3f5f"
            },
            "marker": {
             "line": {
              "color": "#E5ECF6",
              "width": 0.5
             },
             "pattern": {
              "fillmode": "overlay",
              "size": 10,
              "solidity": 0.2
             }
            },
            "type": "bar"
           }
          ],
          "barpolar": [
           {
            "marker": {
             "line": {
              "color": "#E5ECF6",
              "width": 0.5
             },
             "pattern": {
              "fillmode": "overlay",
              "size": 10,
              "solidity": 0.2
             }
            },
            "type": "barpolar"
           }
          ],
          "carpet": [
           {
            "aaxis": {
             "endlinecolor": "#2a3f5f",
             "gridcolor": "white",
             "linecolor": "white",
             "minorgridcolor": "white",
             "startlinecolor": "#2a3f5f"
            },
            "baxis": {
             "endlinecolor": "#2a3f5f",
             "gridcolor": "white",
             "linecolor": "white",
             "minorgridcolor": "white",
             "startlinecolor": "#2a3f5f"
            },
            "type": "carpet"
           }
          ],
          "choropleth": [
           {
            "colorbar": {
             "outlinewidth": 0,
             "ticks": ""
            },
            "type": "choropleth"
           }
          ],
          "contour": [
           {
            "colorbar": {
             "outlinewidth": 0,
             "ticks": ""
            },
            "colorscale": [
             [
              0,
              "#0d0887"
             ],
             [
              0.1111111111111111,
              "#46039f"
             ],
             [
              0.2222222222222222,
              "#7201a8"
             ],
             [
              0.3333333333333333,
              "#9c179e"
             ],
             [
              0.4444444444444444,
              "#bd3786"
             ],
             [
              0.5555555555555556,
              "#d8576b"
             ],
             [
              0.6666666666666666,
              "#ed7953"
             ],
             [
              0.7777777777777778,
              "#fb9f3a"
             ],
             [
              0.8888888888888888,
              "#fdca26"
             ],
             [
              1,
              "#f0f921"
             ]
            ],
            "type": "contour"
           }
          ],
          "contourcarpet": [
           {
            "colorbar": {
             "outlinewidth": 0,
             "ticks": ""
            },
            "type": "contourcarpet"
           }
          ],
          "heatmap": [
           {
            "colorbar": {
             "outlinewidth": 0,
             "ticks": ""
            },
            "colorscale": [
             [
              0,
              "#0d0887"
             ],
             [
              0.1111111111111111,
              "#46039f"
             ],
             [
              0.2222222222222222,
              "#7201a8"
             ],
             [
              0.3333333333333333,
              "#9c179e"
             ],
             [
              0.4444444444444444,
              "#bd3786"
             ],
             [
              0.5555555555555556,
              "#d8576b"
             ],
             [
              0.6666666666666666,
              "#ed7953"
             ],
             [
              0.7777777777777778,
              "#fb9f3a"
             ],
             [
              0.8888888888888888,
              "#fdca26"
             ],
             [
              1,
              "#f0f921"
             ]
            ],
            "type": "heatmap"
           }
          ],
          "heatmapgl": [
           {
            "colorbar": {
             "outlinewidth": 0,
             "ticks": ""
            },
            "colorscale": [
             [
              0,
              "#0d0887"
             ],
             [
              0.1111111111111111,
              "#46039f"
             ],
             [
              0.2222222222222222,
              "#7201a8"
             ],
             [
              0.3333333333333333,
              "#9c179e"
             ],
             [
              0.4444444444444444,
              "#bd3786"
             ],
             [
              0.5555555555555556,
              "#d8576b"
             ],
             [
              0.6666666666666666,
              "#ed7953"
             ],
             [
              0.7777777777777778,
              "#fb9f3a"
             ],
             [
              0.8888888888888888,
              "#fdca26"
             ],
             [
              1,
              "#f0f921"
             ]
            ],
            "type": "heatmapgl"
           }
          ],
          "histogram": [
           {
            "marker": {
             "pattern": {
              "fillmode": "overlay",
              "size": 10,
              "solidity": 0.2
             }
            },
            "type": "histogram"
           }
          ],
          "histogram2d": [
           {
            "colorbar": {
             "outlinewidth": 0,
             "ticks": ""
            },
            "colorscale": [
             [
              0,
              "#0d0887"
             ],
             [
              0.1111111111111111,
              "#46039f"
             ],
             [
              0.2222222222222222,
              "#7201a8"
             ],
             [
              0.3333333333333333,
              "#9c179e"
             ],
             [
              0.4444444444444444,
              "#bd3786"
             ],
             [
              0.5555555555555556,
              "#d8576b"
             ],
             [
              0.6666666666666666,
              "#ed7953"
             ],
             [
              0.7777777777777778,
              "#fb9f3a"
             ],
             [
              0.8888888888888888,
              "#fdca26"
             ],
             [
              1,
              "#f0f921"
             ]
            ],
            "type": "histogram2d"
           }
          ],
          "histogram2dcontour": [
           {
            "colorbar": {
             "outlinewidth": 0,
             "ticks": ""
            },
            "colorscale": [
             [
              0,
              "#0d0887"
             ],
             [
              0.1111111111111111,
              "#46039f"
             ],
             [
              0.2222222222222222,
              "#7201a8"
             ],
             [
              0.3333333333333333,
              "#9c179e"
             ],
             [
              0.4444444444444444,
              "#bd3786"
             ],
             [
              0.5555555555555556,
              "#d8576b"
             ],
             [
              0.6666666666666666,
              "#ed7953"
             ],
             [
              0.7777777777777778,
              "#fb9f3a"
             ],
             [
              0.8888888888888888,
              "#fdca26"
             ],
             [
              1,
              "#f0f921"
             ]
            ],
            "type": "histogram2dcontour"
           }
          ],
          "mesh3d": [
           {
            "colorbar": {
             "outlinewidth": 0,
             "ticks": ""
            },
            "type": "mesh3d"
           }
          ],
          "parcoords": [
           {
            "line": {
             "colorbar": {
              "outlinewidth": 0,
              "ticks": ""
             }
            },
            "type": "parcoords"
           }
          ],
          "pie": [
           {
            "automargin": true,
            "type": "pie"
           }
          ],
          "scatter": [
           {
            "fillpattern": {
             "fillmode": "overlay",
             "size": 10,
             "solidity": 0.2
            },
            "type": "scatter"
           }
          ],
          "scatter3d": [
           {
            "line": {
             "colorbar": {
              "outlinewidth": 0,
              "ticks": ""
             }
            },
            "marker": {
             "colorbar": {
              "outlinewidth": 0,
              "ticks": ""
             }
            },
            "type": "scatter3d"
           }
          ],
          "scattercarpet": [
           {
            "marker": {
             "colorbar": {
              "outlinewidth": 0,
              "ticks": ""
             }
            },
            "type": "scattercarpet"
           }
          ],
          "scattergeo": [
           {
            "marker": {
             "colorbar": {
              "outlinewidth": 0,
              "ticks": ""
             }
            },
            "type": "scattergeo"
           }
          ],
          "scattergl": [
           {
            "marker": {
             "colorbar": {
              "outlinewidth": 0,
              "ticks": ""
             }
            },
            "type": "scattergl"
           }
          ],
          "scattermapbox": [
           {
            "marker": {
             "colorbar": {
              "outlinewidth": 0,
              "ticks": ""
             }
            },
            "type": "scattermapbox"
           }
          ],
          "scatterpolar": [
           {
            "marker": {
             "colorbar": {
              "outlinewidth": 0,
              "ticks": ""
             }
            },
            "type": "scatterpolar"
           }
          ],
          "scatterpolargl": [
           {
            "marker": {
             "colorbar": {
              "outlinewidth": 0,
              "ticks": ""
             }
            },
            "type": "scatterpolargl"
           }
          ],
          "scatterternary": [
           {
            "marker": {
             "colorbar": {
              "outlinewidth": 0,
              "ticks": ""
             }
            },
            "type": "scatterternary"
           }
          ],
          "surface": [
           {
            "colorbar": {
             "outlinewidth": 0,
             "ticks": ""
            },
            "colorscale": [
             [
              0,
              "#0d0887"
             ],
             [
              0.1111111111111111,
              "#46039f"
             ],
             [
              0.2222222222222222,
              "#7201a8"
             ],
             [
              0.3333333333333333,
              "#9c179e"
             ],
             [
              0.4444444444444444,
              "#bd3786"
             ],
             [
              0.5555555555555556,
              "#d8576b"
             ],
             [
              0.6666666666666666,
              "#ed7953"
             ],
             [
              0.7777777777777778,
              "#fb9f3a"
             ],
             [
              0.8888888888888888,
              "#fdca26"
             ],
             [
              1,
              "#f0f921"
             ]
            ],
            "type": "surface"
           }
          ],
          "table": [
           {
            "cells": {
             "fill": {
              "color": "#EBF0F8"
             },
             "line": {
              "color": "white"
             }
            },
            "header": {
             "fill": {
              "color": "#C8D4E3"
             },
             "line": {
              "color": "white"
             }
            },
            "type": "table"
           }
          ]
         },
         "layout": {
          "annotationdefaults": {
           "arrowcolor": "#2a3f5f",
           "arrowhead": 0,
           "arrowwidth": 1
          },
          "autotypenumbers": "strict",
          "coloraxis": {
           "colorbar": {
            "outlinewidth": 0,
            "ticks": ""
           }
          },
          "colorscale": {
           "diverging": [
            [
             0,
             "#8e0152"
            ],
            [
             0.1,
             "#c51b7d"
            ],
            [
             0.2,
             "#de77ae"
            ],
            [
             0.3,
             "#f1b6da"
            ],
            [
             0.4,
             "#fde0ef"
            ],
            [
             0.5,
             "#f7f7f7"
            ],
            [
             0.6,
             "#e6f5d0"
            ],
            [
             0.7,
             "#b8e186"
            ],
            [
             0.8,
             "#7fbc41"
            ],
            [
             0.9,
             "#4d9221"
            ],
            [
             1,
             "#276419"
            ]
           ],
           "sequential": [
            [
             0,
             "#0d0887"
            ],
            [
             0.1111111111111111,
             "#46039f"
            ],
            [
             0.2222222222222222,
             "#7201a8"
            ],
            [
             0.3333333333333333,
             "#9c179e"
            ],
            [
             0.4444444444444444,
             "#bd3786"
            ],
            [
             0.5555555555555556,
             "#d8576b"
            ],
            [
             0.6666666666666666,
             "#ed7953"
            ],
            [
             0.7777777777777778,
             "#fb9f3a"
            ],
            [
             0.8888888888888888,
             "#fdca26"
            ],
            [
             1,
             "#f0f921"
            ]
           ],
           "sequentialminus": [
            [
             0,
             "#0d0887"
            ],
            [
             0.1111111111111111,
             "#46039f"
            ],
            [
             0.2222222222222222,
             "#7201a8"
            ],
            [
             0.3333333333333333,
             "#9c179e"
            ],
            [
             0.4444444444444444,
             "#bd3786"
            ],
            [
             0.5555555555555556,
             "#d8576b"
            ],
            [
             0.6666666666666666,
             "#ed7953"
            ],
            [
             0.7777777777777778,
             "#fb9f3a"
            ],
            [
             0.8888888888888888,
             "#fdca26"
            ],
            [
             1,
             "#f0f921"
            ]
           ]
          },
          "colorway": [
           "#636efa",
           "#EF553B",
           "#00cc96",
           "#ab63fa",
           "#FFA15A",
           "#19d3f3",
           "#FF6692",
           "#B6E880",
           "#FF97FF",
           "#FECB52"
          ],
          "font": {
           "color": "#2a3f5f"
          },
          "geo": {
           "bgcolor": "white",
           "lakecolor": "white",
           "landcolor": "#E5ECF6",
           "showlakes": true,
           "showland": true,
           "subunitcolor": "white"
          },
          "hoverlabel": {
           "align": "left"
          },
          "hovermode": "closest",
          "mapbox": {
           "style": "light"
          },
          "paper_bgcolor": "white",
          "plot_bgcolor": "#E5ECF6",
          "polar": {
           "angularaxis": {
            "gridcolor": "white",
            "linecolor": "white",
            "ticks": ""
           },
           "bgcolor": "#E5ECF6",
           "radialaxis": {
            "gridcolor": "white",
            "linecolor": "white",
            "ticks": ""
           }
          },
          "scene": {
           "xaxis": {
            "backgroundcolor": "#E5ECF6",
            "gridcolor": "white",
            "gridwidth": 2,
            "linecolor": "white",
            "showbackground": true,
            "ticks": "",
            "zerolinecolor": "white"
           },
           "yaxis": {
            "backgroundcolor": "#E5ECF6",
            "gridcolor": "white",
            "gridwidth": 2,
            "linecolor": "white",
            "showbackground": true,
            "ticks": "",
            "zerolinecolor": "white"
           },
           "zaxis": {
            "backgroundcolor": "#E5ECF6",
            "gridcolor": "white",
            "gridwidth": 2,
            "linecolor": "white",
            "showbackground": true,
            "ticks": "",
            "zerolinecolor": "white"
           }
          },
          "shapedefaults": {
           "line": {
            "color": "#2a3f5f"
           }
          },
          "ternary": {
           "aaxis": {
            "gridcolor": "white",
            "linecolor": "white",
            "ticks": ""
           },
           "baxis": {
            "gridcolor": "white",
            "linecolor": "white",
            "ticks": ""
           },
           "bgcolor": "#E5ECF6",
           "caxis": {
            "gridcolor": "white",
            "linecolor": "white",
            "ticks": ""
           }
          },
          "title": {
           "x": 0.05
          },
          "xaxis": {
           "automargin": true,
           "gridcolor": "white",
           "linecolor": "white",
           "ticks": "",
           "title": {
            "standoff": 15
           },
           "zerolinecolor": "white",
           "zerolinewidth": 2
          },
          "yaxis": {
           "automargin": true,
           "gridcolor": "white",
           "linecolor": "white",
           "ticks": "",
           "title": {
            "standoff": 15
           },
           "zerolinecolor": "white",
           "zerolinewidth": 2
          }
         }
        },
        "title": {
         "text": "Éboulis des valeurs propres"
        },
        "xaxis": {
         "anchor": "y",
         "domain": [
          0,
          1
         ],
         "title": {
          "text": "Dimension"
         }
        },
        "yaxis": {
         "anchor": "x",
         "domain": [
          0,
          1
         ],
         "title": {
          "text": "Pourcentage"
         }
        }
       }
      }
     },
     "metadata": {},
     "output_type": "display_data"
    }
   ],
   "source": [
    "import plotly.express as px\n",
    "\n",
    "# Récupérer les valeurs propres (eigenvalues)\n",
    "eigenvalues = afc.eigenvalues_\n",
    "\n",
    "# Calculer l'inertie totale\n",
    "total_inertia = sum(eigenvalues)\n",
    "\n",
    "# Calculer l'inertie expliquée par chaque dimension\n",
    "inertia_per_dim = [val / total_inertia * 100 for val in eigenvalues]\n",
    "\n",
    "# Afficher les résultats\n",
    "print(\"Valeurs propres (eigenvalues) :\", eigenvalues)\n",
    "print(\"\\nInertie totale :\", total_inertia)\n",
    "print(\"\\nPourcentage d'inertie expliquée par chaque dimension :\")\n",
    "for i, perc in enumerate(inertia_per_dim, 1):\n",
    "    print(f\"Dimension {i}: {perc:.2f}%\")\n",
    "\n",
    "# Créer un dataframe pour le graphique\n",
    "inertia_df = pd.DataFrame({\n",
    "    'Dimension': [f'Dim {i+1}' for i in range(len(eigenvalues))],\n",
    "    'Inertie': eigenvalues,\n",
    "    'Pourcentage': inertia_per_dim,\n",
    "    'Cumulé': [sum(inertia_per_dim[:i+1]) for i in range(len(inertia_per_dim))]\n",
    "})\n",
    "\n",
    "# Graphique d'éboulis\n",
    "fig = px.line(inertia_df, x='Dimension', y='Pourcentage',\n",
    "              title='Éboulis des valeurs propres',\n",
    "              markers=True, text='Pourcentage')\n",
    "fig.update_traces(texttemplate='%{text:.1f}%', textposition='top center')\n",
    "fig.show()"
   ]
  }
 ],
 "metadata": {
  "kernelspec": {
   "display_name": "base",
   "language": "python",
   "name": "python3"
  },
  "language_info": {
   "codemirror_mode": {
    "name": "ipython",
    "version": 3
   },
   "file_extension": ".py",
   "mimetype": "text/x-python",
   "name": "python",
   "nbconvert_exporter": "python",
   "pygments_lexer": "ipython3",
   "version": "3.12.7"
  }
 },
 "nbformat": 4,
 "nbformat_minor": 5
}
